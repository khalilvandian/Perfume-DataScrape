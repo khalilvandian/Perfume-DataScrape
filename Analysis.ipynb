{
 "cells": [
  {
   "cell_type": "code",
   "execution_count": 8,
   "id": "b7fb374d",
   "metadata": {},
   "outputs": [],
   "source": [
    "from pymongo import MongoClient\n",
    "from pymongo import errors\n",
    "from pprint import pprint\n",
    "import numpy as np\n",
    "import regex as re\n",
    "import pandas as pd"
   ]
  },
  {
   "cell_type": "code",
   "execution_count": 2,
   "id": "25d05a22",
   "metadata": {},
   "outputs": [],
   "source": [
    "def connect_database():\n",
    "    client = MongoClient('localhost', 27017)\n",
    "    return client"
   ]
  },
  {
   "cell_type": "code",
   "execution_count": 3,
   "id": "d967e7af",
   "metadata": {},
   "outputs": [],
   "source": [
    "client = connect_database()"
   ]
  },
  {
   "cell_type": "code",
   "execution_count": 4,
   "id": "6b4f2a09",
   "metadata": {},
   "outputs": [],
   "source": [
    "fragrances_collection = client.Perfume_Database.Fragrances"
   ]
  },
  {
   "cell_type": "markdown",
   "id": "600a1229",
   "metadata": {},
   "source": [
    "# Analyze the gathered data"
   ]
  },
  {
   "cell_type": "markdown",
   "id": "31e00eae",
   "metadata": {},
   "source": [
    "## Companies collected in the database"
   ]
  },
  {
   "cell_type": "markdown",
   "id": "d91ddee6",
   "metadata": {},
   "source": [
    "The pipeline created, queries unique companies and aggregates the count of perfumes made by that company that are present in the collection. The results are sorted by perfume count in descending order."
   ]
  },
  {
   "cell_type": "code",
   "execution_count": 6,
   "id": "077a92c0",
   "metadata": {},
   "outputs": [],
   "source": [
    "extract_unique_companies_pipeline = [\n",
    "    {\n",
    "        '$group': {\n",
    "            '_id': '$company', \n",
    "            'Perfumes_Count': {\n",
    "                '$count': {}\n",
    "            }\n",
    "        }\n",
    "    }, {\n",
    "        '$project': {\n",
    "            'Company': '$_id', \n",
    "            'Perfumes_Count': 1, \n",
    "            '_id': 0\n",
    "        }\n",
    "    }, {\n",
    "        '$sort': {\n",
    "            'Perfumes_Count': -1\n",
    "        }\n",
    "    }\n",
    "]"
   ]
  },
  {
   "cell_type": "code",
   "execution_count": 7,
   "id": "323a75f1",
   "metadata": {},
   "outputs": [],
   "source": [
    "unique_Brands = fragrances_collection.aggregate(extract_unique_companies_pipeline)"
   ]
  },
  {
   "cell_type": "code",
   "execution_count": 9,
   "id": "6c463005",
   "metadata": {},
   "outputs": [],
   "source": [
    "unique_Brands_df = pd.DataFrame(unique_Brands)"
   ]
  },
  {
   "cell_type": "markdown",
   "id": "17d8cdb8",
   "metadata": {},
   "source": [
    "After importing the results of the aggregation, we can see the top 10 companies in regards to the number of perfumes made by them is present in the collection."
   ]
  },
  {
   "cell_type": "code",
   "execution_count": 10,
   "id": "3df943e1",
   "metadata": {},
   "outputs": [
    {
     "data": {
      "text/html": [
       "<div>\n",
       "<style scoped>\n",
       "    .dataframe tbody tr th:only-of-type {\n",
       "        vertical-align: middle;\n",
       "    }\n",
       "\n",
       "    .dataframe tbody tr th {\n",
       "        vertical-align: top;\n",
       "    }\n",
       "\n",
       "    .dataframe thead th {\n",
       "        text-align: right;\n",
       "    }\n",
       "</style>\n",
       "<table border=\"1\" class=\"dataframe\">\n",
       "  <thead>\n",
       "    <tr style=\"text-align: right;\">\n",
       "      <th></th>\n",
       "      <th>Perfumes_Count</th>\n",
       "      <th>Company</th>\n",
       "    </tr>\n",
       "  </thead>\n",
       "  <tbody>\n",
       "    <tr>\n",
       "      <th>0</th>\n",
       "      <td>51</td>\n",
       "      <td>montale</td>\n",
       "    </tr>\n",
       "    <tr>\n",
       "      <th>1</th>\n",
       "      <td>49</td>\n",
       "      <td>zara</td>\n",
       "    </tr>\n",
       "    <tr>\n",
       "      <th>2</th>\n",
       "      <td>47</td>\n",
       "      <td>xerjoff</td>\n",
       "    </tr>\n",
       "    <tr>\n",
       "      <th>3</th>\n",
       "      <td>44</td>\n",
       "      <td>serge lutens</td>\n",
       "    </tr>\n",
       "    <tr>\n",
       "      <th>4</th>\n",
       "      <td>42</td>\n",
       "      <td>byredo</td>\n",
       "    </tr>\n",
       "    <tr>\n",
       "      <th>5</th>\n",
       "      <td>42</td>\n",
       "      <td>l'artisan parfumeur</td>\n",
       "    </tr>\n",
       "    <tr>\n",
       "      <th>6</th>\n",
       "      <td>40</td>\n",
       "      <td>maison francis kurkdjian</td>\n",
       "    </tr>\n",
       "    <tr>\n",
       "      <th>7</th>\n",
       "      <td>39</td>\n",
       "      <td>tom ford private blend</td>\n",
       "    </tr>\n",
       "    <tr>\n",
       "      <th>8</th>\n",
       "      <td>39</td>\n",
       "      <td>amouage</td>\n",
       "    </tr>\n",
       "    <tr>\n",
       "      <th>9</th>\n",
       "      <td>38</td>\n",
       "      <td>profumum</td>\n",
       "    </tr>\n",
       "  </tbody>\n",
       "</table>\n",
       "</div>"
      ],
      "text/plain": [
       "   Perfumes_Count                   Company\n",
       "0              51                   montale\n",
       "1              49                      zara\n",
       "2              47                   xerjoff\n",
       "3              44              serge lutens\n",
       "4              42                    byredo\n",
       "5              42       l'artisan parfumeur\n",
       "6              40  maison francis kurkdjian\n",
       "7              39    tom ford private blend\n",
       "8              39                   amouage\n",
       "9              38                  profumum"
      ]
     },
     "execution_count": 10,
     "metadata": {},
     "output_type": "execute_result"
    }
   ],
   "source": [
    "unique_Brands_df.head(10)"
   ]
  },
  {
   "cell_type": "code",
   "execution_count": 12,
   "id": "5c0a4690",
   "metadata": {},
   "outputs": [
    {
     "data": {
      "text/html": [
       "<div>\n",
       "<style scoped>\n",
       "    .dataframe tbody tr th:only-of-type {\n",
       "        vertical-align: middle;\n",
       "    }\n",
       "\n",
       "    .dataframe tbody tr th {\n",
       "        vertical-align: top;\n",
       "    }\n",
       "\n",
       "    .dataframe thead th {\n",
       "        text-align: right;\n",
       "    }\n",
       "</style>\n",
       "<table border=\"1\" class=\"dataframe\">\n",
       "  <thead>\n",
       "    <tr style=\"text-align: right;\">\n",
       "      <th></th>\n",
       "      <th>Perfumes_Count</th>\n",
       "    </tr>\n",
       "  </thead>\n",
       "  <tbody>\n",
       "    <tr>\n",
       "      <th>count</th>\n",
       "      <td>1065.000000</td>\n",
       "    </tr>\n",
       "    <tr>\n",
       "      <th>mean</th>\n",
       "      <td>4.276995</td>\n",
       "    </tr>\n",
       "    <tr>\n",
       "      <th>std</th>\n",
       "      <td>6.444040</td>\n",
       "    </tr>\n",
       "    <tr>\n",
       "      <th>min</th>\n",
       "      <td>1.000000</td>\n",
       "    </tr>\n",
       "    <tr>\n",
       "      <th>25%</th>\n",
       "      <td>1.000000</td>\n",
       "    </tr>\n",
       "    <tr>\n",
       "      <th>50%</th>\n",
       "      <td>2.000000</td>\n",
       "    </tr>\n",
       "    <tr>\n",
       "      <th>75%</th>\n",
       "      <td>5.000000</td>\n",
       "    </tr>\n",
       "    <tr>\n",
       "      <th>max</th>\n",
       "      <td>51.000000</td>\n",
       "    </tr>\n",
       "  </tbody>\n",
       "</table>\n",
       "</div>"
      ],
      "text/plain": [
       "       Perfumes_Count\n",
       "count     1065.000000\n",
       "mean         4.276995\n",
       "std          6.444040\n",
       "min          1.000000\n",
       "25%          1.000000\n",
       "50%          2.000000\n",
       "75%          5.000000\n",
       "max         51.000000"
      ]
     },
     "execution_count": 12,
     "metadata": {},
     "output_type": "execute_result"
    }
   ],
   "source": [
    "unique_Brands_df.describe()"
   ]
  },
  {
   "cell_type": "markdown",
   "id": "6be813c2",
   "metadata": {},
   "source": [
    "## Notes collected in the database"
   ]
  },
  {
   "cell_type": "markdown",
   "id": "cf53e966",
   "metadata": {},
   "source": [
    "Extract unique notes"
   ]
  },
  {
   "cell_type": "code",
   "execution_count": 18,
   "id": "a3f1dc4b",
   "metadata": {},
   "outputs": [],
   "source": [
    "extract_count_notes = [\n",
    "    {\n",
    "        '$project': {\n",
    "            'all_notes': {\n",
    "                '$concatArrays': [\n",
    "                    {\n",
    "                        '$ifNull': [\n",
    "                            '$top notes', []\n",
    "                        ]\n",
    "                    }, {\n",
    "                        '$ifNull': [\n",
    "                            '$base notes', []\n",
    "                        ]\n",
    "                    }, {\n",
    "                        '$ifNull': [\n",
    "                            '$middle notes', []\n",
    "                        ]\n",
    "                    }, {\n",
    "                        '$ifNull': [\n",
    "                            '$notes', []\n",
    "                        ]\n",
    "                    }\n",
    "                ]\n",
    "            }\n",
    "        }\n",
    "    }, {\n",
    "        '$unwind': {\n",
    "            'path': '$all_notes'\n",
    "        }\n",
    "    }, {\n",
    "        '$group': {\n",
    "            '_id': '$all_notes', \n",
    "            'count': {\n",
    "                '$sum': 1\n",
    "            }\n",
    "        }\n",
    "    }, {\n",
    "        '$sort': {\n",
    "            'count': -1\n",
    "        }\n",
    "    }\n",
    "]"
   ]
  },
  {
   "cell_type": "code",
   "execution_count": 19,
   "id": "35d8b123",
   "metadata": {},
   "outputs": [],
   "source": [
    "unique_notes = fragrances_collection.aggregate(extract_count_notes)"
   ]
  },
  {
   "cell_type": "code",
   "execution_count": 20,
   "id": "370c7d32",
   "metadata": {},
   "outputs": [],
   "source": [
    "unique_notes_df = pd.DataFrame(unique_notes)"
   ]
  },
  {
   "cell_type": "code",
   "execution_count": 21,
   "id": "715d05a4",
   "metadata": {},
   "outputs": [
    {
     "data": {
      "text/html": [
       "<div>\n",
       "<style scoped>\n",
       "    .dataframe tbody tr th:only-of-type {\n",
       "        vertical-align: middle;\n",
       "    }\n",
       "\n",
       "    .dataframe tbody tr th {\n",
       "        vertical-align: top;\n",
       "    }\n",
       "\n",
       "    .dataframe thead th {\n",
       "        text-align: right;\n",
       "    }\n",
       "</style>\n",
       "<table border=\"1\" class=\"dataframe\">\n",
       "  <thead>\n",
       "    <tr style=\"text-align: right;\">\n",
       "      <th></th>\n",
       "      <th>_id</th>\n",
       "      <th>count</th>\n",
       "    </tr>\n",
       "  </thead>\n",
       "  <tbody>\n",
       "    <tr>\n",
       "      <th>0</th>\n",
       "      <td>musk</td>\n",
       "      <td>1527</td>\n",
       "    </tr>\n",
       "    <tr>\n",
       "      <th>1</th>\n",
       "      <td>vanilla</td>\n",
       "      <td>1250</td>\n",
       "    </tr>\n",
       "    <tr>\n",
       "      <th>2</th>\n",
       "      <td>bergamot</td>\n",
       "      <td>1171</td>\n",
       "    </tr>\n",
       "    <tr>\n",
       "      <th>3</th>\n",
       "      <td>sandalwood</td>\n",
       "      <td>1162</td>\n",
       "    </tr>\n",
       "    <tr>\n",
       "      <th>4</th>\n",
       "      <td>patchouli</td>\n",
       "      <td>1154</td>\n",
       "    </tr>\n",
       "    <tr>\n",
       "      <th>5</th>\n",
       "      <td>amber</td>\n",
       "      <td>1134</td>\n",
       "    </tr>\n",
       "    <tr>\n",
       "      <th>6</th>\n",
       "      <td>jasmine</td>\n",
       "      <td>940</td>\n",
       "    </tr>\n",
       "    <tr>\n",
       "      <th>7</th>\n",
       "      <td>rose</td>\n",
       "      <td>846</td>\n",
       "    </tr>\n",
       "    <tr>\n",
       "      <th>8</th>\n",
       "      <td>cedar</td>\n",
       "      <td>749</td>\n",
       "    </tr>\n",
       "    <tr>\n",
       "      <th>9</th>\n",
       "      <td>vetiver</td>\n",
       "      <td>641</td>\n",
       "    </tr>\n",
       "    <tr>\n",
       "      <th>10</th>\n",
       "      <td>tonka bean</td>\n",
       "      <td>479</td>\n",
       "    </tr>\n",
       "    <tr>\n",
       "      <th>11</th>\n",
       "      <td>leather</td>\n",
       "      <td>425</td>\n",
       "    </tr>\n",
       "    <tr>\n",
       "      <th>12</th>\n",
       "      <td>lemon</td>\n",
       "      <td>412</td>\n",
       "    </tr>\n",
       "    <tr>\n",
       "      <th>13</th>\n",
       "      <td>cardamom</td>\n",
       "      <td>410</td>\n",
       "    </tr>\n",
       "    <tr>\n",
       "      <th>14</th>\n",
       "      <td>pink pepper</td>\n",
       "      <td>392</td>\n",
       "    </tr>\n",
       "    <tr>\n",
       "      <th>15</th>\n",
       "      <td>incense</td>\n",
       "      <td>357</td>\n",
       "    </tr>\n",
       "    <tr>\n",
       "      <th>16</th>\n",
       "      <td>iris</td>\n",
       "      <td>354</td>\n",
       "    </tr>\n",
       "    <tr>\n",
       "      <th>17</th>\n",
       "      <td>orange blossom</td>\n",
       "      <td>353</td>\n",
       "    </tr>\n",
       "    <tr>\n",
       "      <th>18</th>\n",
       "      <td>mandarin orange</td>\n",
       "      <td>348</td>\n",
       "    </tr>\n",
       "    <tr>\n",
       "      <th>19</th>\n",
       "      <td>violet</td>\n",
       "      <td>342</td>\n",
       "    </tr>\n",
       "  </tbody>\n",
       "</table>\n",
       "</div>"
      ],
      "text/plain": [
       "                _id  count\n",
       "0              musk   1527\n",
       "1           vanilla   1250\n",
       "2          bergamot   1171\n",
       "3        sandalwood   1162\n",
       "4         patchouli   1154\n",
       "5             amber   1134\n",
       "6           jasmine    940\n",
       "7              rose    846\n",
       "8             cedar    749\n",
       "9           vetiver    641\n",
       "10       tonka bean    479\n",
       "11          leather    425\n",
       "12            lemon    412\n",
       "13         cardamom    410\n",
       "14      pink pepper    392\n",
       "15          incense    357\n",
       "16             iris    354\n",
       "17   orange blossom    353\n",
       "18  mandarin orange    348\n",
       "19           violet    342"
      ]
     },
     "execution_count": 21,
     "metadata": {},
     "output_type": "execute_result"
    }
   ],
   "source": [
    "unique_notes_df.head(20)"
   ]
  },
  {
   "cell_type": "markdown",
   "id": "43dc96d9",
   "metadata": {},
   "source": [
    "Number of notes in each perfume"
   ]
  },
  {
   "cell_type": "markdown",
   "id": "abef6990",
   "metadata": {},
   "source": [
    "Top most used notes overal"
   ]
  },
  {
   "cell_type": "markdown",
   "id": "33a69e05",
   "metadata": {},
   "source": [
    "Top most used notes in each of Top, Base and middle notes"
   ]
  },
  {
   "cell_type": "code",
   "execution_count": null,
   "id": "3318aa20",
   "metadata": {},
   "outputs": [],
   "source": []
  }
 ],
 "metadata": {
  "kernelspec": {
   "display_name": "Python 3 (ipykernel)",
   "language": "python",
   "name": "python3"
  },
  "language_info": {
   "codemirror_mode": {
    "name": "ipython",
    "version": 3
   },
   "file_extension": ".py",
   "mimetype": "text/x-python",
   "name": "python",
   "nbconvert_exporter": "python",
   "pygments_lexer": "ipython3",
   "version": "3.11.5"
  }
 },
 "nbformat": 4,
 "nbformat_minor": 5
}
