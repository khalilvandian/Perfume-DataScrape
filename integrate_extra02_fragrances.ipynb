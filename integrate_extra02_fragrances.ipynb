{
 "cells": [
  {
   "cell_type": "code",
   "execution_count": 1,
   "id": "b7fb374d",
   "metadata": {},
   "outputs": [],
   "source": [
    "from pymongo import MongoClient\n",
    "from pymongo import errors\n",
    "from pprint import pprint\n",
    "import numpy as np"
   ]
  },
  {
   "cell_type": "code",
   "execution_count": 2,
   "id": "25d05a22",
   "metadata": {},
   "outputs": [],
   "source": [
    "def connect_database():\n",
    "    client = MongoClient('localhost', 27017)\n",
    "    return client"
   ]
  },
  {
   "cell_type": "code",
   "execution_count": 3,
   "id": "d967e7af",
   "metadata": {},
   "outputs": [],
   "source": [
    "client = connect_database()"
   ]
  },
  {
   "cell_type": "code",
   "execution_count": 4,
   "id": "5d76a098",
   "metadata": {},
   "outputs": [
    {
     "data": {
      "text/plain": [
       "['Kitchen_test',\n",
       " 'Perfume_Database',\n",
       " 'WorldDevelopmentIndicators',\n",
       " 'admin',\n",
       " 'config',\n",
       " 'local']"
      ]
     },
     "execution_count": 4,
     "metadata": {},
     "output_type": "execute_result"
    }
   ],
   "source": [
    "client.list_database_names()"
   ]
  },
  {
   "cell_type": "code",
   "execution_count": 5,
   "id": "f2f5508e",
   "metadata": {},
   "outputs": [],
   "source": [
    "perfume_database = client.Perfume_Database"
   ]
  },
  {
   "cell_type": "code",
   "execution_count": 6,
   "id": "402e45e4",
   "metadata": {},
   "outputs": [
    {
     "name": "stdout",
     "output_type": "stream",
     "text": [
      "['Cleared_Crawled_Perfumes',\n",
      " 'Scraped_Perfumes',\n",
      " 'Extra01',\n",
      " 'Perfumes',\n",
      " 'Extra02',\n",
      " 'Fragrances',\n",
      " 'Crawled_Perfumes']\n"
     ]
    }
   ],
   "source": [
    "pprint(perfume_database.list_collection_names())"
   ]
  },
  {
   "cell_type": "code",
   "execution_count": 8,
   "id": "1befb811",
   "metadata": {},
   "outputs": [],
   "source": [
    "Extra02_collection = perfume_database.Extra02\n",
    "fragrances_collection = perfume_database.Fragrances"
   ]
  },
  {
   "cell_type": "markdown",
   "id": "5784f959",
   "metadata": {},
   "source": [
    "# Compare the data sets"
   ]
  },
  {
   "cell_type": "code",
   "execution_count": 10,
   "id": "e0b57f27",
   "metadata": {},
   "outputs": [
    {
     "name": "stdout",
     "output_type": "stream",
     "text": [
      "{'_id': ObjectId('65c3ecc62be6a0a6d64f6756'),\n",
      " 'base_notes1': 'Vanilla',\n",
      " 'base_notes2': 'Patchouli',\n",
      " 'base_notes3': 'Cedarwood',\n",
      " 'base_notes4': 'Cashmere Wood',\n",
      " 'brand': 'Byliv Perfume',\n",
      " 'concentration': 'EDP',\n",
      " 'followers': 324,\n",
      " 'instagram_link': 'https://www.instagram.com/byliv.perfume/',\n",
      " 'mid_notes1': 'Coffee',\n",
      " 'mid_notes2': 'Jasmine',\n",
      " 'mid_notes3': 'Bitter Almond',\n",
      " 'mid_notes4': 'Licorice',\n",
      " 'price': '120,000.00',\n",
      " 'price_per_ml': '4,000.00',\n",
      " 'size': 30,\n",
      " 'top_notes1': 'Pear',\n",
      " 'top_notes2': 'Pink Pepper',\n",
      " 'top_notes3': 'Orange Blossom',\n",
      " 'variant': 'Black Sapphire',\n",
      " 'variant_link': 'https://shopee.co.id/bylivofficial/20945459510',\n",
      " 'year': 2022}\n",
      "{'_id': ObjectId('65c3ecc62be6a0a6d64f67a0'),\n",
      " 'base_notes1': 'Praline',\n",
      " 'base_notes2': 'Cashmere Wood',\n",
      " 'base_notes3': 'Olibanum',\n",
      " 'brand': 'Scentials',\n",
      " 'concentration': 'EDP',\n",
      " 'followers': 4297,\n",
      " 'instagram_link': 'https://www.instagram.com/scentials.co/',\n",
      " 'mid_notes1': 'Jasmine',\n",
      " 'mid_notes2': 'African Orange Flower',\n",
      " 'mid_notes3': 'Peony',\n",
      " 'price': '199,000.00',\n",
      " 'price_per_ml': '6,633.33',\n",
      " 'size': 30,\n",
      " 'top_notes1': 'Raspberry',\n",
      " 'top_notes2': 'Pear',\n",
      " 'top_notes3': 'Bergamot',\n",
      " 'top_notes4': 'Black Currant',\n",
      " 'variant': 'Amaranth',\n",
      " 'variant_link': 'https://shopee.co.id/scentials/19872598858',\n",
      " 'year': 2021}\n",
      "{'_id': ObjectId('65c3ecc62be6a0a6d64f6759'),\n",
      " 'brand': 'CARESO',\n",
      " 'concentration': 'EDT',\n",
      " 'followers': 35700,\n",
      " 'instagram_link': 'https://www.instagram.com/careso.official/',\n",
      " 'mid_notes1': 'Sandalwood',\n",
      " 'mid_notes2': 'Musk',\n",
      " 'price': '169,000.00',\n",
      " 'price_per_ml': '1,690.00',\n",
      " 'size': 100,\n",
      " 'top_notes1': 'Cotton',\n",
      " 'top_notes2': 'Rose',\n",
      " 'top_notes3': 'Peony',\n",
      " 'top_notes4': 'Violet',\n",
      " 'variant': 'Clean',\n",
      " 'variant_link': 'https://shopee.co.id/valueperfume.id/20227248539',\n",
      " 'year': 2019}\n",
      "{'_id': ObjectId('65c3ecc62be6a0a6d64f6761'),\n",
      " 'base_notes1': 'Sandalwood ',\n",
      " 'base_notes2': 'Vetiver',\n",
      " 'base_notes3': 'Honey',\n",
      " 'brand': 'Exxome',\n",
      " 'concentration': 'EDP',\n",
      " 'followers': 23000,\n",
      " 'instagram_link': 'https://www.instagram.com/exxome.id/',\n",
      " 'mid_notes1': 'Pepper',\n",
      " 'mid_notes2': 'Cedarwood',\n",
      " 'mid_notes3': 'Coriander',\n",
      " 'price': '169,000.00',\n",
      " 'price_per_ml': '3,380.00',\n",
      " 'size': 50,\n",
      " 'top_notes1': 'Mandarin Orange',\n",
      " 'top_notes2': 'Bergamot',\n",
      " 'top_notes3': 'Saffron',\n",
      " 'variant': 'Orion',\n",
      " 'variant_link': 'https://shopee.co.id/exxome.id/7659168089',\n",
      " 'year': 2020}\n",
      "{'_id': ObjectId('65c3ecc62be6a0a6d64f679b'),\n",
      " 'base_notes1': 'Musk',\n",
      " 'base_notes2': 'Sandalwood',\n",
      " 'brand': 'Samaya Perfume',\n",
      " 'concentration': 'EDP',\n",
      " 'followers': 27200,\n",
      " 'instagram_link': 'https://www.instagram.com/samayaperfume.id/',\n",
      " 'mid_notes1': 'Green Notes',\n",
      " 'mid_notes2': 'Lily of the Valley',\n",
      " 'mid_notes3': 'Rose',\n",
      " 'mid_notes4': 'Jasmine',\n",
      " 'price': '189,000.00',\n",
      " 'price_per_ml': '5,400.00',\n",
      " 'size': 35,\n",
      " 'top_notes1': 'Apricot',\n",
      " 'top_notes2': 'Peach',\n",
      " 'top_notes3': 'Green Tea',\n",
      " 'variant': 'Wairi Hill',\n",
      " 'variant_link': 'https://shopee.co.id/samayaperfumeid/7293350893',\n",
      " 'year': 2020}\n"
     ]
    }
   ],
   "source": [
    "res = Extra02_collection.aggregate([\n",
    "  { \"$sample\": { \"size\": 5 } }\n",
    "])\n",
    "\n",
    "for i in res:\n",
    "    pprint(i)"
   ]
  },
  {
   "cell_type": "code",
   "execution_count": 11,
   "id": "3353ec14",
   "metadata": {},
   "outputs": [
    {
     "name": "stdout",
     "output_type": "stream",
     "text": [
      "{'_id': ObjectId('65a54ac72b32912eefb9ea54'),\n",
      " 'base notes': ['Civet', 'Resins', 'Musk'],\n",
      " 'company': 'Bogue',\n",
      " 'description': 'Maai by Bogue is a Floral Woody Musk fragrance for women and '\n",
      "                'men. Maai was launched in 2014. The nose behind this '\n",
      "                'fragrance is Antonio Gardoni. Top notes are Aldehydes and '\n",
      "                'Tuberose; middle notes are Jasmine and Rose; base notes are '\n",
      "                'Civet, Resins and Musk. .',\n",
      " 'gender': 'for women and men',\n",
      " 'gender_vote': {'average': 0.2, 'votes_count': 130},\n",
      " 'image': 'https://fimgs.net/mdimg/perfume/375x500.26681.jpg',\n",
      " 'longevity': {'eternal': 69,\n",
      "               'long lasting': 140,\n",
      "               'moderate': 28,\n",
      "               'very weak': 23,\n",
      "               'weak': 9},\n",
      " 'main accords': {'aldehydic': 71.419,\n",
      "                  'amber': 70.8567,\n",
      "                  'animalic': 80.9679,\n",
      "                  'balsamic': 44.2436,\n",
      "                  'fresh': 57.3066,\n",
      "                  'musky': 100.0,\n",
      "                  'powdery': 62.7979,\n",
      "                  'rose': 45.3681,\n",
      "                  'tuberose': 63.1727,\n",
      "                  'white floral': 81.0897},\n",
      " 'middle notes': ['Jasmine', 'Rose'],\n",
      " 'name': 'Maai',\n",
      " 'number_votes': 602,\n",
      " 'price value': {'good value': 25,\n",
      "                 'great value': 4,\n",
      "                 'ok': 49,\n",
      "                 'overpriced': 19,\n",
      "                 'way overpriced': 5},\n",
      " 'rating': 4.18,\n",
      " 'sillage': {'enormous': 76, 'intimate': 27, 'moderate': 69, 'strong': 146},\n",
      " 'top notes': ['Aldehydes', 'Tuberose'],\n",
      " 'url': 'https://www.fragrantica.com/perfume/Bogue/Maai-26681.html'}\n"
     ]
    }
   ],
   "source": [
    "pprint(fragrances_collection.find_one())"
   ]
  },
  {
   "cell_type": "markdown",
   "id": "4e81a858",
   "metadata": {},
   "source": [
    "# gather notes in their own array"
   ]
  },
  {
   "cell_type": "code",
   "execution_count": null,
   "id": "368fed17",
   "metadata": {},
   "outputs": [],
   "source": []
  }
 ],
 "metadata": {
  "kernelspec": {
   "display_name": "Python 3 (ipykernel)",
   "language": "python",
   "name": "python3"
  },
  "language_info": {
   "codemirror_mode": {
    "name": "ipython",
    "version": 3
   },
   "file_extension": ".py",
   "mimetype": "text/x-python",
   "name": "python",
   "nbconvert_exporter": "python",
   "pygments_lexer": "ipython3",
   "version": "3.11.5"
  }
 },
 "nbformat": 4,
 "nbformat_minor": 5
}
