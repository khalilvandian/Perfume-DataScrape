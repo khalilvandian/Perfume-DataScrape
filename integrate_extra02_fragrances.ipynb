{
 "cells": [
  {
   "cell_type": "code",
   "execution_count": 63,
   "id": "b7fb374d",
   "metadata": {},
   "outputs": [],
   "source": [
    "from pymongo import MongoClient\n",
    "from pymongo import errors\n",
    "from pprint import pprint\n",
    "import numpy as np\n",
    "import re"
   ]
  },
  {
   "cell_type": "code",
   "execution_count": 64,
   "id": "25d05a22",
   "metadata": {},
   "outputs": [],
   "source": [
    "def connect_database():\n",
    "    client = MongoClient('localhost', 27017)\n",
    "    return client"
   ]
  },
  {
   "cell_type": "code",
   "execution_count": 65,
   "id": "d967e7af",
   "metadata": {},
   "outputs": [],
   "source": [
    "client = connect_database()"
   ]
  },
  {
   "cell_type": "code",
   "execution_count": 66,
   "id": "5d76a098",
   "metadata": {},
   "outputs": [
    {
     "data": {
      "text/plain": [
       "['Kitchen_test',\n",
       " 'Perfume_Database',\n",
       " 'WorldDevelopmentIndicators',\n",
       " 'admin',\n",
       " 'config',\n",
       " 'local']"
      ]
     },
     "execution_count": 66,
     "metadata": {},
     "output_type": "execute_result"
    }
   ],
   "source": [
    "client.list_database_names()"
   ]
  },
  {
   "cell_type": "code",
   "execution_count": 67,
   "id": "f2f5508e",
   "metadata": {},
   "outputs": [],
   "source": [
    "perfume_database = client.Perfume_Database"
   ]
  },
  {
   "cell_type": "code",
   "execution_count": 68,
   "id": "402e45e4",
   "metadata": {},
   "outputs": [
    {
     "name": "stdout",
     "output_type": "stream",
     "text": [
      "['Cleared_Crawled_Perfumes',\n",
      " 'Scraped_Perfumes',\n",
      " 'Extra01',\n",
      " 'Perfumes',\n",
      " 'Extra02',\n",
      " 'Fragrances',\n",
      " 'Crawled_Perfumes']\n"
     ]
    }
   ],
   "source": [
    "pprint(perfume_database.list_collection_names())"
   ]
  },
  {
   "cell_type": "code",
   "execution_count": 69,
   "id": "1befb811",
   "metadata": {},
   "outputs": [],
   "source": [
    "extra02_collection = perfume_database.Extra02\n",
    "fragrances_collection = perfume_database.Fragrances"
   ]
  },
  {
   "cell_type": "markdown",
   "id": "5784f959",
   "metadata": {},
   "source": [
    "# Compare the data sets"
   ]
  },
  {
   "cell_type": "code",
   "execution_count": 70,
   "id": "e0b57f27",
   "metadata": {},
   "outputs": [
    {
     "name": "stdout",
     "output_type": "stream",
     "text": [
      "{'_id': ObjectId('65c3ecc62be6a0a6d64f6798'),\n",
      " 'base_notes1': 'Amber',\n",
      " 'base_notes2': 'Oakmoss',\n",
      " 'base_notes3': 'Woody',\n",
      " 'brand': 'S.TOI Fragrances',\n",
      " 'concentration': 'EDP',\n",
      " 'followers': 830,\n",
      " 'instagram_link': 'https://www.instagram.com/stoiaroma/',\n",
      " 'mid_notes1': 'Cedarwood',\n",
      " 'mid_notes2': 'Honey',\n",
      " 'mid_notes3': 'Spice',\n",
      " 'price': '239,000.00',\n",
      " 'price_per_ml': '4,780.00',\n",
      " 'size': 50,\n",
      " 'top_notes1': 'Calabrian Bergamot',\n",
      " 'top_notes2': 'Grapefruit',\n",
      " 'top_notes3': 'Hazelnut',\n",
      " 'variant': 'Indigo',\n",
      " 'variant_link': 'https://tokopedia.link/Yo9qMfn07xb',\n",
      " 'year': 2023}\n",
      "{'_id': ObjectId('65c3ecc62be6a0a6d64f67a7'),\n",
      " 'base_notes1': 'Musk',\n",
      " 'base_notes2': 'Cashmere',\n",
      " 'base_notes3': 'Wood',\n",
      " 'brand': 'The Pleasure',\n",
      " 'concentration': 'EDP',\n",
      " 'followers': 1048,\n",
      " 'instagram_link': 'https://www.instagram.com/thepleasure.id/',\n",
      " 'mid_notes1': 'Vanilla',\n",
      " 'mid_notes2': 'Floral',\n",
      " 'mid_notes3': 'Almond',\n",
      " 'price': '195,000.00',\n",
      " 'price_per_ml': '3,900.00',\n",
      " 'size': 50,\n",
      " 'top_notes1': 'Coffee',\n",
      " 'top_notes2': 'Orange',\n",
      " 'top_notes3': 'Blossom',\n",
      " 'variant': 2,\n",
      " 'variant_link': 'https://shopee.co.id/thepleasure/10443738723',\n",
      " 'year': 2021}\n",
      "{'_id': ObjectId('65c3ecc62be6a0a6d64f6791'),\n",
      " 'base_notes1': 'Musk',\n",
      " 'base_notes2': 'Oakmoss',\n",
      " 'brand': 'Peculiar',\n",
      " 'concentration': 'EDP',\n",
      " 'followers': 18500,\n",
      " 'instagram_link': 'https://www.instagram.com/dearpeculiar/',\n",
      " 'mid_notes1': 'Woody',\n",
      " 'mid_notes2': 'Amber',\n",
      " 'price': '440,000.00',\n",
      " 'price_per_ml': '8,800.00',\n",
      " 'size': 50,\n",
      " 'top_notes1': 'Citrus',\n",
      " 'top_notes2': 'Apple',\n",
      " 'variant': 'Night',\n",
      " 'variant_link': 'https://tokopedia.link/kiFhZsfWWAb',\n",
      " 'year': 2023}\n",
      "{'_id': ObjectId('65c3ecc62be6a0a6d64f679c'),\n",
      " 'brand': 'Sanford Perfume',\n",
      " 'concentration': 'EDP',\n",
      " 'followers': 2980,\n",
      " 'instagram_link': 'https://www.instagram.com/sanford.id/',\n",
      " 'price': '196,000.00',\n",
      " 'price_per_ml': '3,920.00',\n",
      " 'size': 50,\n",
      " 'top_notes1': 'Citrus',\n",
      " 'top_notes2': 'Aquatic',\n",
      " 'top_notes3': 'Ozonic',\n",
      " 'top_notes4': 'Fresh',\n",
      " 'top_notes5': 'Spicy',\n",
      " 'variant': 'Calestial Blue',\n",
      " 'variant_link': 'https://shopee.co.id/o7enh99p_z/22731134652',\n",
      " 'year': 2023}\n",
      "{'_id': ObjectId('65c3ecc62be6a0a6d64f674e'),\n",
      " 'base_notes1': 'Vanilla',\n",
      " 'base_notes2': 'Powdery',\n",
      " 'base_notes3': 'Musk',\n",
      " 'base_notes4': 'Caramel',\n",
      " 'brand': 'Avicenna',\n",
      " 'concentration': 'EDP',\n",
      " 'followers': 781,\n",
      " 'instagram_link': 'https://www.instagram.com/avicennaperfume.id/',\n",
      " 'mid_notes1': 'Jasmine',\n",
      " 'mid_notes2': 'Rose',\n",
      " 'mid_notes3': 'Violet',\n",
      " 'price': '229,250.00',\n",
      " 'price_per_ml': '2,292.50',\n",
      " 'size': 100,\n",
      " 'top_notes1': 'Red Fruits',\n",
      " 'top_notes2': 'Orange',\n",
      " 'top_notes3': 'Pepper',\n",
      " 'variant': 'Miracle',\n",
      " 'variant_link': 'https://shopee.co.id/cnfperfumery/15750856518',\n",
      " 'year': 2022}\n"
     ]
    }
   ],
   "source": [
    "res = extra02_collection.aggregate([\n",
    "  { \"$sample\": { \"size\": 5 } }\n",
    "])\n",
    "\n",
    "for i in res:\n",
    "    pprint(i)"
   ]
  },
  {
   "cell_type": "code",
   "execution_count": 71,
   "id": "3353ec14",
   "metadata": {},
   "outputs": [
    {
     "name": "stdout",
     "output_type": "stream",
     "text": [
      "{'_id': ObjectId('65a54ac72b32912eefb9ea54'),\n",
      " 'base notes': ['Civet', 'Resins', 'Musk'],\n",
      " 'company': 'Bogue',\n",
      " 'description': 'Maai by Bogue is a Floral Woody Musk fragrance for women and '\n",
      "                'men. Maai was launched in 2014. The nose behind this '\n",
      "                'fragrance is Antonio Gardoni. Top notes are Aldehydes and '\n",
      "                'Tuberose; middle notes are Jasmine and Rose; base notes are '\n",
      "                'Civet, Resins and Musk. .',\n",
      " 'gender': 'for women and men',\n",
      " 'gender_vote': {'average': 0.2, 'votes_count': 130},\n",
      " 'image': 'https://fimgs.net/mdimg/perfume/375x500.26681.jpg',\n",
      " 'longevity': {'eternal': 69,\n",
      "               'long lasting': 140,\n",
      "               'moderate': 28,\n",
      "               'very weak': 23,\n",
      "               'weak': 9},\n",
      " 'main accords': {'aldehydic': 71.419,\n",
      "                  'amber': 70.8567,\n",
      "                  'animalic': 80.9679,\n",
      "                  'balsamic': 44.2436,\n",
      "                  'fresh': 57.3066,\n",
      "                  'musky': 100.0,\n",
      "                  'powdery': 62.7979,\n",
      "                  'rose': 45.3681,\n",
      "                  'tuberose': 63.1727,\n",
      "                  'white floral': 81.0897},\n",
      " 'middle notes': ['Jasmine', 'Rose'],\n",
      " 'name': 'Maai',\n",
      " 'number_votes': 602,\n",
      " 'price value': {'good value': 25,\n",
      "                 'great value': 4,\n",
      "                 'ok': 49,\n",
      "                 'overpriced': 19,\n",
      "                 'way overpriced': 5},\n",
      " 'rating': 4.18,\n",
      " 'sillage': {'enormous': 76, 'intimate': 27, 'moderate': 69, 'strong': 146},\n",
      " 'top notes': ['Aldehydes', 'Tuberose'],\n",
      " 'url': 'https://www.fragrantica.com/perfume/Bogue/Maai-26681.html'}\n"
     ]
    }
   ],
   "source": [
    "pprint(fragrances_collection.find_one())"
   ]
  },
  {
   "cell_type": "markdown",
   "id": "4e81a858",
   "metadata": {},
   "source": [
    "# gather notes in their own array"
   ]
  },
  {
   "cell_type": "code",
   "execution_count": 72,
   "id": "bd3058e2",
   "metadata": {},
   "outputs": [],
   "source": [
    "document_into_array = {\n",
    "        '$project': {\n",
    "            'fields': {\n",
    "                '$objectToArray': '$$ROOT'\n",
    "            }\n",
    "        }\n",
    "    }"
   ]
  },
  {
   "cell_type": "code",
   "execution_count": 73,
   "id": "73f40eb6",
   "metadata": {},
   "outputs": [],
   "source": [
    "def filter_fields(regex_filter):\n",
    "    return {\n",
    "        '$project': {\n",
    "            'fieldsArray': {\n",
    "                '$filter': {\n",
    "                    'input': '$fields', \n",
    "                    'as': 'item', \n",
    "                    'cond': {\n",
    "                        '$regexMatch': {\n",
    "                            'input': '$$item.k', \n",
    "                            'regex': regex_filter\n",
    "                        }\n",
    "                    }\n",
    "                }\n",
    "            }\n",
    "        }\n",
    "    }"
   ]
  },
  {
   "cell_type": "code",
   "execution_count": 74,
   "id": "cb6a7914",
   "metadata": {},
   "outputs": [],
   "source": [
    "def accumulate_field_values(field_name):\n",
    "    return {\n",
    "        '$project': {\n",
    "            field_name: {\n",
    "                '$map': {\n",
    "                    'input': '$fieldsArray', \n",
    "                    'as': 'item', \n",
    "                    'in': '$$item.v'\n",
    "                }\n",
    "            }\n",
    "        }\n",
    "    }"
   ]
  },
  {
   "cell_type": "code",
   "execution_count": 75,
   "id": "12b20459",
   "metadata": {},
   "outputs": [],
   "source": [
    "accumulate_top_notes_pipeline = [\n",
    "    document_into_array,\n",
    "    filter_fields(\"^top\"),\n",
    "    accumulate_field_values(\"top notes\")\n",
    "]"
   ]
  },
  {
   "cell_type": "code",
   "execution_count": null,
   "id": "f9cd8b5c",
   "metadata": {},
   "outputs": [],
   "source": [
    "add_other_fields = {}"
   ]
  },
  {
   "cell_type": "code",
   "execution_count": 76,
   "id": "82697dc3",
   "metadata": {},
   "outputs": [],
   "source": [
    "result = extra02_collection.aggregate(accumulate_top_notes_pipeline)"
   ]
  },
  {
   "cell_type": "code",
   "execution_count": 77,
   "id": "6390e899",
   "metadata": {},
   "outputs": [
    {
     "name": "stdout",
     "output_type": "stream",
     "text": [
      "{'_id': ObjectId('65c3ecc62be6a0a6d64f6747'),\n",
      " 'top notes': ['Fresh Watery Accord', 'Rose', 'Pink Pepper']}\n"
     ]
    }
   ],
   "source": [
    "pprint(result.next())"
   ]
  },
  {
   "cell_type": "code",
   "execution_count": null,
   "id": "33cdd5d9",
   "metadata": {},
   "outputs": [],
   "source": []
  }
 ],
 "metadata": {
  "kernelspec": {
   "display_name": "Python 3 (ipykernel)",
   "language": "python",
   "name": "python3"
  },
  "language_info": {
   "codemirror_mode": {
    "name": "ipython",
    "version": 3
   },
   "file_extension": ".py",
   "mimetype": "text/x-python",
   "name": "python",
   "nbconvert_exporter": "python",
   "pygments_lexer": "ipython3",
   "version": "3.11.5"
  }
 },
 "nbformat": 4,
 "nbformat_minor": 5
}
