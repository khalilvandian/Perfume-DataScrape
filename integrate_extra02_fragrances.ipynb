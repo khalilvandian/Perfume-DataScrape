{
 "cells": [
  {
   "cell_type": "code",
   "execution_count": 45,
   "id": "b7fb374d",
   "metadata": {},
   "outputs": [],
   "source": [
    "from pymongo import MongoClient\n",
    "from pymongo import errors\n",
    "from pprint import pprint\n",
    "import numpy as np\n",
    "import re"
   ]
  },
  {
   "cell_type": "code",
   "execution_count": 46,
   "id": "25d05a22",
   "metadata": {},
   "outputs": [],
   "source": [
    "def connect_database():\n",
    "    client = MongoClient('localhost', 27017)\n",
    "    return client"
   ]
  },
  {
   "cell_type": "code",
   "execution_count": 47,
   "id": "d967e7af",
   "metadata": {},
   "outputs": [],
   "source": [
    "client = connect_database()"
   ]
  },
  {
   "cell_type": "code",
   "execution_count": 48,
   "id": "5d76a098",
   "metadata": {},
   "outputs": [
    {
     "data": {
      "text/plain": [
       "['Kitchen_test',\n",
       " 'Perfume_Database',\n",
       " 'WorldDevelopmentIndicators',\n",
       " 'admin',\n",
       " 'config',\n",
       " 'local']"
      ]
     },
     "execution_count": 48,
     "metadata": {},
     "output_type": "execute_result"
    }
   ],
   "source": [
    "client.list_database_names()"
   ]
  },
  {
   "cell_type": "code",
   "execution_count": 49,
   "id": "f2f5508e",
   "metadata": {},
   "outputs": [],
   "source": [
    "perfume_database = client.Perfume_Database"
   ]
  },
  {
   "cell_type": "code",
   "execution_count": 50,
   "id": "402e45e4",
   "metadata": {},
   "outputs": [
    {
     "name": "stdout",
     "output_type": "stream",
     "text": [
      "['Cleared_Crawled_Perfumes',\n",
      " 'Scraped_Perfumes',\n",
      " 'Extra01',\n",
      " 'Perfumes',\n",
      " 'Extra02',\n",
      " 'Fragrances',\n",
      " 'Crawled_Perfumes']\n"
     ]
    }
   ],
   "source": [
    "pprint(perfume_database.list_collection_names())"
   ]
  },
  {
   "cell_type": "code",
   "execution_count": 51,
   "id": "1befb811",
   "metadata": {},
   "outputs": [],
   "source": [
    "extra02_collection = perfume_database.Extra02\n",
    "fragrances_collection = perfume_database.Fragrances"
   ]
  },
  {
   "cell_type": "markdown",
   "id": "5784f959",
   "metadata": {},
   "source": [
    "# Compare the data sets"
   ]
  },
  {
   "cell_type": "code",
   "execution_count": 52,
   "id": "e0b57f27",
   "metadata": {},
   "outputs": [
    {
     "name": "stdout",
     "output_type": "stream",
     "text": [
      "{'_id': ObjectId('65c3ecc62be6a0a6d64f677a'),\n",
      " 'base_notes1': 'Pear',\n",
      " 'base_notes2': 'Melon',\n",
      " 'base_notes3': 'Musk',\n",
      " 'base_notes4': 'Rose',\n",
      " 'base_notes5': 'Peony',\n",
      " 'brand': 'Maison SONO',\n",
      " 'concentration': 'EDP',\n",
      " 'followers': 2115,\n",
      " 'instagram_link': 'https://www.instagram.com/maisonsono/?hl=en',\n",
      " 'mid_notes1': 'Red Apple',\n",
      " 'mid_notes2': 'Patchouli',\n",
      " 'mid_notes3': 'Vanilla',\n",
      " 'mid_notes4': 'Sandalwood',\n",
      " 'price': '169,000.00',\n",
      " 'price_per_ml': '4,828.57',\n",
      " 'size': 35,\n",
      " 'top_notes1': 'Water Jasmine',\n",
      " 'top_notes2': 'Ginger Flower',\n",
      " 'top_notes3': 'Green Mandarin',\n",
      " 'variant': 'Walking The Aisle',\n",
      " 'variant_link': 'https://shopee.co.id/maisonsono/17668723027',\n",
      " 'year': 2022}\n",
      "{'_id': ObjectId('65c3ecc62be6a0a6d64f678c'),\n",
      " 'base_notes1': 'Musk',\n",
      " 'base_notes2': 'Amber',\n",
      " 'base_notes3': 'Peach',\n",
      " 'base_notes4': 'Caramel',\n",
      " 'base_notes5': 'Vanilla',\n",
      " 'brand': 'Onja',\n",
      " 'concentration': 'EDP',\n",
      " 'followers': 715,\n",
      " 'instagram_link': 'https://www.instagram.com/onja.id/',\n",
      " 'mid_notes1': 'Freesia',\n",
      " 'mid_notes2': 'Jasmine',\n",
      " 'mid_notes3': 'Lily',\n",
      " 'mid_notes4': 'Champagne',\n",
      " 'price': '153,000.00',\n",
      " 'price_per_ml': '3,060.00',\n",
      " 'size': 50,\n",
      " 'top_notes1': 'Green Apple',\n",
      " 'top_notes2': 'Mint',\n",
      " 'top_notes3': 'Dew Berry',\n",
      " 'variant': 'Savio',\n",
      " 'variant_link': 'https://shopee.co.id/onjaofficial/19971575723',\n",
      " 'year': 2023}\n",
      "{'_id': ObjectId('65c3ecc62be6a0a6d64f6799'),\n",
      " 'base_notes1': 'Vanilla',\n",
      " 'base_notes2': 'Tonka Bean',\n",
      " 'base_notes3': 'Musk',\n",
      " 'brand': 'SAFF & Co.',\n",
      " 'concentration': 'ExDP',\n",
      " 'followers': 54400,\n",
      " 'instagram_link': 'https://www.instagram.com/saffnco/',\n",
      " 'mid_notes1': 'Tuberose',\n",
      " 'mid_notes2': 'Jasmine',\n",
      " 'mid_notes3': 'Orange Flower',\n",
      " 'price': '229,000.00',\n",
      " 'price_per_ml': '7,633.33',\n",
      " 'size': 30,\n",
      " 'top_notes1': 'Mandarin',\n",
      " 'top_notes2': 'Galbanum',\n",
      " 'top_notes3': 'Ylang Ylang',\n",
      " 'variant': 'S.O.T.B',\n",
      " 'variant_link': 'https://shopee.co.id/saffnco/20634545364',\n",
      " 'year': 2020}\n",
      "{'_id': ObjectId('65c3ecc62be6a0a6d64f67ab'),\n",
      " 'base_notes1': 'Synthetic Musk',\n",
      " 'brand': 'Usual',\n",
      " 'concentration': 'EDP',\n",
      " 'followers': 9901,\n",
      " 'instagram_link': 'https://www.instagram.com/officialusual/',\n",
      " 'mid_notes1': 'Spices',\n",
      " 'mid_notes2': 'Basil',\n",
      " 'price': '251,100.00',\n",
      " 'price_per_ml': '2,511.00',\n",
      " 'size': 100,\n",
      " 'top_notes1': 'Ginger',\n",
      " 'top_notes2': 'Bergamot',\n",
      " 'top_notes3': 'Lemon',\n",
      " 'variant': 'Gentle Ginger',\n",
      " 'variant_link': 'https://shopee.co.id/officialusual/3985995159',\n",
      " 'year': 2020}\n",
      "{'_id': ObjectId('65c3ecc62be6a0a6d64f67b1'),\n",
      " 'base_notes1': 'White Musk',\n",
      " 'base_notes2': 'Cedarwood',\n",
      " 'base_notes3': 'Pepper',\n",
      " 'base_notes4': 'Orris Root',\n",
      " 'base_notes5': 'Violet Leaf',\n",
      " 'brand': 'YN Perfumery',\n",
      " 'concentration': 'EDP',\n",
      " 'followers': 1540,\n",
      " 'instagram_link': 'https://www.instagram.com/yn.perfumery/',\n",
      " 'mid_notes1': 'May Rose',\n",
      " 'mid_notes2': 'Rose',\n",
      " 'mid_notes3': 'Turkish Rose',\n",
      " 'mid_notes4': 'Iris',\n",
      " 'price': '199,000.00',\n",
      " 'price_per_ml': '3,980.00',\n",
      " 'size': 50,\n",
      " 'top_notes1': 'Peach',\n",
      " 'top_notes2': 'Green Notes',\n",
      " 'top_notes3': 'Blackkcurrant',\n",
      " 'variant': 'Rose in September',\n",
      " 'variant_link': 'https://shopee.co.id/ynperfumery/22405366743',\n",
      " 'year': 2022}\n"
     ]
    }
   ],
   "source": [
    "res = extra02_collection.aggregate([\n",
    "  { \"$sample\": { \"size\": 5 } }\n",
    "])\n",
    "\n",
    "for i in res:\n",
    "    pprint(i)"
   ]
  },
  {
   "cell_type": "code",
   "execution_count": 53,
   "id": "3353ec14",
   "metadata": {},
   "outputs": [
    {
     "name": "stdout",
     "output_type": "stream",
     "text": [
      "{'_id': ObjectId('65a54ac72b32912eefb9ea54'),\n",
      " 'base notes': ['Civet', 'Resins', 'Musk'],\n",
      " 'company': 'Bogue',\n",
      " 'description': 'Maai by Bogue is a Floral Woody Musk fragrance for women and '\n",
      "                'men. Maai was launched in 2014. The nose behind this '\n",
      "                'fragrance is Antonio Gardoni. Top notes are Aldehydes and '\n",
      "                'Tuberose; middle notes are Jasmine and Rose; base notes are '\n",
      "                'Civet, Resins and Musk. .',\n",
      " 'gender': 'for women and men',\n",
      " 'gender_vote': {'average': 0.2, 'votes_count': 130},\n",
      " 'image': 'https://fimgs.net/mdimg/perfume/375x500.26681.jpg',\n",
      " 'longevity': {'eternal': 69,\n",
      "               'long lasting': 140,\n",
      "               'moderate': 28,\n",
      "               'very weak': 23,\n",
      "               'weak': 9},\n",
      " 'main accords': {'aldehydic': 71.419,\n",
      "                  'amber': 70.8567,\n",
      "                  'animalic': 80.9679,\n",
      "                  'balsamic': 44.2436,\n",
      "                  'fresh': 57.3066,\n",
      "                  'musky': 100.0,\n",
      "                  'powdery': 62.7979,\n",
      "                  'rose': 45.3681,\n",
      "                  'tuberose': 63.1727,\n",
      "                  'white floral': 81.0897},\n",
      " 'middle notes': ['Jasmine', 'Rose'],\n",
      " 'name': 'Maai',\n",
      " 'number_votes': 602,\n",
      " 'price value': {'good value': 25,\n",
      "                 'great value': 4,\n",
      "                 'ok': 49,\n",
      "                 'overpriced': 19,\n",
      "                 'way overpriced': 5},\n",
      " 'rating': 4.18,\n",
      " 'sillage': {'enormous': 76, 'intimate': 27, 'moderate': 69, 'strong': 146},\n",
      " 'top notes': ['Aldehydes', 'Tuberose'],\n",
      " 'url': 'https://www.fragrantica.com/perfume/Bogue/Maai-26681.html'}\n"
     ]
    }
   ],
   "source": [
    "pprint(fragrances_collection.find_one())"
   ]
  },
  {
   "cell_type": "markdown",
   "id": "4e81a858",
   "metadata": {},
   "source": [
    "# gather notes in their own array"
   ]
  },
  {
   "cell_type": "code",
   "execution_count": 54,
   "id": "bd3058e2",
   "metadata": {},
   "outputs": [],
   "source": [
    "document_into_array = {\n",
    "        '$project': {\n",
    "            'fields': {\n",
    "                '$objectToArray': '$$ROOT'\n",
    "            }\n",
    "        }\n",
    "    }"
   ]
  },
  {
   "cell_type": "code",
   "execution_count": 55,
   "id": "73f40eb6",
   "metadata": {},
   "outputs": [],
   "source": [
    "def filter_fields(regex_filter):\n",
    "    return {\n",
    "        '$project': {\n",
    "            'fieldsArray': {\n",
    "                '$filter': {\n",
    "                    'input': '$fields', \n",
    "                    'as': 'item', \n",
    "                    'cond': {\n",
    "                        '$regexMatch': {\n",
    "                            'input': '$$item.k', \n",
    "                            'regex': regex_filter\n",
    "                        }\n",
    "                    }\n",
    "                }\n",
    "            }\n",
    "        }\n",
    "    }"
   ]
  },
  {
   "cell_type": "code",
   "execution_count": 56,
   "id": "cb6a7914",
   "metadata": {},
   "outputs": [],
   "source": [
    "def accumulate_field_values(field_name):\n",
    "    return {\n",
    "        '$project': {\n",
    "            field_name: {\n",
    "                '$map': {\n",
    "                    'input': '$fieldsArray', \n",
    "                    'as': 'item', \n",
    "                    'in': '$$item.v'\n",
    "                }\n",
    "            }\n",
    "        }\n",
    "    }"
   ]
  },
  {
   "cell_type": "markdown",
   "id": "b0fb1175",
   "metadata": {},
   "source": [
    "Insert the new field to the dataset"
   ]
  },
  {
   "cell_type": "code",
   "execution_count": 57,
   "id": "1ede13ce",
   "metadata": {},
   "outputs": [],
   "source": [
    "def merge_calculated_field(): \n",
    "    return {\n",
    "        '$merge': {\n",
    "            'into': 'Extra02', \n",
    "            'on': '_id', \n",
    "            'whenMatched': 'merge', \n",
    "            'whenNotMatched': 'discard'\n",
    "        }}"
   ]
  },
  {
   "cell_type": "code",
   "execution_count": 58,
   "id": "4ec25c88",
   "metadata": {},
   "outputs": [],
   "source": [
    "accumulate_top_notes_pipeline = [\n",
    "    document_into_array,\n",
    "    filter_fields(\"^top\"),\n",
    "    accumulate_field_values(\"top notes\"),\n",
    "    merge_calculated_field()\n",
    "]"
   ]
  },
  {
   "cell_type": "code",
   "execution_count": 59,
   "id": "12b20459",
   "metadata": {},
   "outputs": [],
   "source": [
    "accumulate_middle_notes_pipeline = [\n",
    "    document_into_array,\n",
    "    filter_fields(\"^mid\"),\n",
    "    accumulate_field_values(\"middle notes\"),\n",
    "    merge_calculated_field()\n",
    "]"
   ]
  },
  {
   "cell_type": "code",
   "execution_count": 60,
   "id": "e78e87f7",
   "metadata": {},
   "outputs": [],
   "source": [
    "accumulate_base_notes_pipeline = [\n",
    "    document_into_array,\n",
    "    filter_fields(\"^base\"),\n",
    "    accumulate_field_values(\"base notes\"),\n",
    "    merge_calculated_field()\n",
    "]"
   ]
  },
  {
   "cell_type": "markdown",
   "id": "edca2406",
   "metadata": {},
   "source": [
    "## Accumulate new fields and merge"
   ]
  },
  {
   "cell_type": "markdown",
   "id": "8b3a640a",
   "metadata": {},
   "source": [
    "accumulate top fields and using the aggregation pipeline merge it with Extra02"
   ]
  },
  {
   "cell_type": "code",
   "execution_count": 63,
   "id": "12e7c009",
   "metadata": {},
   "outputs": [],
   "source": [
    "result = extra02_collection.aggregate(accumulate_top_notes_pipeline)"
   ]
  },
  {
   "cell_type": "code",
   "execution_count": 65,
   "id": "e1538ba7",
   "metadata": {},
   "outputs": [
    {
     "data": {
      "text/plain": [
       "{'_id': ObjectId('65c3ecc62be6a0a6d64f6747'),\n",
       " 'brand': 'Alchemist',\n",
       " 'instagram_link': 'https://www.instagram.com/alchemist.fragrance/',\n",
       " 'followers': 17800,\n",
       " 'year': 2022,\n",
       " 'variant': 'Powder Room',\n",
       " 'variant_link': 'https://shopee.co.id/alchemist.fragrance/17137354148',\n",
       " 'concentration': 'EDP',\n",
       " 'size': 50,\n",
       " 'price': '199,000.00',\n",
       " 'price_per_ml': '3,980.00',\n",
       " 'top_notes1': 'Fresh Watery Accord',\n",
       " 'top_notes2': 'Rose',\n",
       " 'top_notes3': 'Pink Pepper',\n",
       " 'mid_notes1': 'Violet',\n",
       " 'mid_notes2': 'Orange Blossom',\n",
       " 'mid_notes3': 'Peony',\n",
       " 'base_notes1': 'Musk',\n",
       " 'base_notes2': 'Marine',\n",
       " 'base_notes3': 'Sandalwood',\n",
       " 'top notes': ['Fresh Watery Accord', 'Rose', 'Pink Pepper']}"
      ]
     },
     "execution_count": 65,
     "metadata": {},
     "output_type": "execute_result"
    }
   ],
   "source": [
    "extra02_collection.find_one()"
   ]
  },
  {
   "cell_type": "markdown",
   "id": "1343f9ed",
   "metadata": {},
   "source": [
    "accumulate middle fields and using the aggregation pipeline merge it with Extra02"
   ]
  },
  {
   "cell_type": "code",
   "execution_count": 66,
   "id": "3a35c3f0",
   "metadata": {},
   "outputs": [],
   "source": [
    "result = extra02_collection.aggregate(accumulate_middle_notes_pipeline)"
   ]
  },
  {
   "cell_type": "code",
   "execution_count": 67,
   "id": "91ee0aef",
   "metadata": {},
   "outputs": [
    {
     "data": {
      "text/plain": [
       "{'_id': ObjectId('65c3ecc62be6a0a6d64f6747'),\n",
       " 'brand': 'Alchemist',\n",
       " 'instagram_link': 'https://www.instagram.com/alchemist.fragrance/',\n",
       " 'followers': 17800,\n",
       " 'year': 2022,\n",
       " 'variant': 'Powder Room',\n",
       " 'variant_link': 'https://shopee.co.id/alchemist.fragrance/17137354148',\n",
       " 'concentration': 'EDP',\n",
       " 'size': 50,\n",
       " 'price': '199,000.00',\n",
       " 'price_per_ml': '3,980.00',\n",
       " 'top_notes1': 'Fresh Watery Accord',\n",
       " 'top_notes2': 'Rose',\n",
       " 'top_notes3': 'Pink Pepper',\n",
       " 'mid_notes1': 'Violet',\n",
       " 'mid_notes2': 'Orange Blossom',\n",
       " 'mid_notes3': 'Peony',\n",
       " 'base_notes1': 'Musk',\n",
       " 'base_notes2': 'Marine',\n",
       " 'base_notes3': 'Sandalwood',\n",
       " 'top notes': ['Fresh Watery Accord', 'Rose', 'Pink Pepper'],\n",
       " 'middle notes': ['Violet', 'Orange Blossom', 'Peony']}"
      ]
     },
     "execution_count": 67,
     "metadata": {},
     "output_type": "execute_result"
    }
   ],
   "source": [
    "extra02_collection.find_one()"
   ]
  },
  {
   "cell_type": "markdown",
   "id": "eb99a62c",
   "metadata": {},
   "source": [
    "accumulate base fields and using the aggregation pipeline merge it with Extra02"
   ]
  },
  {
   "cell_type": "code",
   "execution_count": 68,
   "id": "61fee2c7",
   "metadata": {},
   "outputs": [],
   "source": [
    "result = extra02_collection.aggregate(accumulate_base_notes_pipeline)"
   ]
  },
  {
   "cell_type": "code",
   "execution_count": 69,
   "id": "82697dc3",
   "metadata": {},
   "outputs": [
    {
     "data": {
      "text/plain": [
       "{'_id': ObjectId('65c3ecc62be6a0a6d64f6747'),\n",
       " 'brand': 'Alchemist',\n",
       " 'instagram_link': 'https://www.instagram.com/alchemist.fragrance/',\n",
       " 'followers': 17800,\n",
       " 'year': 2022,\n",
       " 'variant': 'Powder Room',\n",
       " 'variant_link': 'https://shopee.co.id/alchemist.fragrance/17137354148',\n",
       " 'concentration': 'EDP',\n",
       " 'size': 50,\n",
       " 'price': '199,000.00',\n",
       " 'price_per_ml': '3,980.00',\n",
       " 'top_notes1': 'Fresh Watery Accord',\n",
       " 'top_notes2': 'Rose',\n",
       " 'top_notes3': 'Pink Pepper',\n",
       " 'mid_notes1': 'Violet',\n",
       " 'mid_notes2': 'Orange Blossom',\n",
       " 'mid_notes3': 'Peony',\n",
       " 'base_notes1': 'Musk',\n",
       " 'base_notes2': 'Marine',\n",
       " 'base_notes3': 'Sandalwood',\n",
       " 'top notes': ['Fresh Watery Accord', 'Rose', 'Pink Pepper'],\n",
       " 'middle notes': ['Violet', 'Orange Blossom', 'Peony'],\n",
       " 'base notes': ['Musk', 'Marine', 'Sandalwood']}"
      ]
     },
     "execution_count": 69,
     "metadata": {},
     "output_type": "execute_result"
    }
   ],
   "source": [
    "extra02_collection.find_one()"
   ]
  },
  {
   "cell_type": "markdown",
   "id": "5273e48d",
   "metadata": {},
   "source": [
    "# Project and Integrate the required fields"
   ]
  },
  {
   "cell_type": "markdown",
   "id": "393e927d",
   "metadata": {},
   "source": [
    "First we Compare the Extra02 and Fragrances datasets to determine the integration process"
   ]
  },
  {
   "cell_type": "code",
   "execution_count": 73,
   "id": "49f28597",
   "metadata": {},
   "outputs": [
    {
     "name": "stdout",
     "output_type": "stream",
     "text": [
      "{'_id': ObjectId('65a54ac72b32912eefb9ea54'),\n",
      " 'base notes': ['Civet', 'Resins', 'Musk'],\n",
      " 'company': 'Bogue',\n",
      " 'description': 'Maai by Bogue is a Floral Woody Musk fragrance for women and '\n",
      "                'men. Maai was launched in 2014. The nose behind this '\n",
      "                'fragrance is Antonio Gardoni. Top notes are Aldehydes and '\n",
      "                'Tuberose; middle notes are Jasmine and Rose; base notes are '\n",
      "                'Civet, Resins and Musk. .',\n",
      " 'gender': 'for women and men',\n",
      " 'gender_vote': {'average': 0.2, 'votes_count': 130},\n",
      " 'image': 'https://fimgs.net/mdimg/perfume/375x500.26681.jpg',\n",
      " 'longevity': {'eternal': 69,\n",
      "               'long lasting': 140,\n",
      "               'moderate': 28,\n",
      "               'very weak': 23,\n",
      "               'weak': 9},\n",
      " 'main accords': {'aldehydic': 71.419,\n",
      "                  'amber': 70.8567,\n",
      "                  'animalic': 80.9679,\n",
      "                  'balsamic': 44.2436,\n",
      "                  'fresh': 57.3066,\n",
      "                  'musky': 100.0,\n",
      "                  'powdery': 62.7979,\n",
      "                  'rose': 45.3681,\n",
      "                  'tuberose': 63.1727,\n",
      "                  'white floral': 81.0897},\n",
      " 'middle notes': ['Jasmine', 'Rose'],\n",
      " 'name': 'Maai',\n",
      " 'number_votes': 602,\n",
      " 'price value': {'good value': 25,\n",
      "                 'great value': 4,\n",
      "                 'ok': 49,\n",
      "                 'overpriced': 19,\n",
      "                 'way overpriced': 5},\n",
      " 'rating': 4.18,\n",
      " 'sillage': {'enormous': 76, 'intimate': 27, 'moderate': 69, 'strong': 146},\n",
      " 'top notes': ['Aldehydes', 'Tuberose'],\n",
      " 'url': 'https://www.fragrantica.com/perfume/Bogue/Maai-26681.html'}\n"
     ]
    }
   ],
   "source": [
    "pprint(fragrances_collection.find_one())"
   ]
  },
  {
   "cell_type": "code",
   "execution_count": 82,
   "id": "23f51ef6",
   "metadata": {},
   "outputs": [
    {
     "name": "stdout",
     "output_type": "stream",
     "text": [
      "{'_id': ObjectId('65c3ecc62be6a0a6d64f6747'),\n",
      " 'base notes': ['Musk', 'Marine', 'Sandalwood'],\n",
      " 'base_notes1': 'Musk',\n",
      " 'base_notes2': 'Marine',\n",
      " 'base_notes3': 'Sandalwood',\n",
      " 'brand': 'Alchemist',\n",
      " 'concentration': 'EDP',\n",
      " 'followers': 17800,\n",
      " 'instagram_link': 'https://www.instagram.com/alchemist.fragrance/',\n",
      " 'mid_notes1': 'Violet',\n",
      " 'mid_notes2': 'Orange Blossom',\n",
      " 'mid_notes3': 'Peony',\n",
      " 'middle notes': ['Violet', 'Orange Blossom', 'Peony'],\n",
      " 'price': '199,000.00',\n",
      " 'price_per_ml': '3,980.00',\n",
      " 'size': 50,\n",
      " 'top notes': ['Fresh Watery Accord', 'Rose', 'Pink Pepper'],\n",
      " 'top_notes1': 'Fresh Watery Accord',\n",
      " 'top_notes2': 'Rose',\n",
      " 'top_notes3': 'Pink Pepper',\n",
      " 'variant': 'Powder Room',\n",
      " 'variant_link': 'https://shopee.co.id/alchemist.fragrance/17137354148',\n",
      " 'year': 2022}\n",
      "{'_id': ObjectId('65c3ecc62be6a0a6d64f6748'),\n",
      " 'base notes': [],\n",
      " 'brand': 'Alien Objects',\n",
      " 'concentration': 'EDP',\n",
      " 'followers': 15700,\n",
      " 'instagram_link': 'https://www.instagram.com/alienobjects/',\n",
      " 'mid_notes1': 'Orange Blossom',\n",
      " 'middle notes': ['Orange Blossom'],\n",
      " 'price': '750,000.00',\n",
      " 'price_per_ml': '15,000.00',\n",
      " 'size': 50,\n",
      " 'top notes': ['Dew', 'Strawberry', 'Lotus', 'Tulip', 'Musk', 'Oakmoss'],\n",
      " 'top_notes1': 'Dew',\n",
      " 'top_notes2': 'Strawberry',\n",
      " 'top_notes3': 'Lotus',\n",
      " 'top_notes4': 'Tulip',\n",
      " 'top_notes5': 'Musk',\n",
      " 'top_notes6': 'Oakmoss',\n",
      " 'variant': 'XOXO',\n",
      " 'variant_link': 'https://shopee.co.id/alienobjects/14283008217',\n",
      " 'year': 2019}\n",
      "{'_id': ObjectId('65c3ecc62be6a0a6d64f6749'),\n",
      " 'base notes': ['Vanilla', 'Caramel', 'Musk', 'Cedarwood'],\n",
      " 'base_notes1': 'Vanilla',\n",
      " 'base_notes2': 'Caramel',\n",
      " 'base_notes3': 'Musk',\n",
      " 'base_notes4': 'Cedarwood',\n",
      " 'brand': 'ALT Perfumery',\n",
      " 'concentration': 'EDP',\n",
      " 'followers': 6528,\n",
      " 'instagram_link': 'https://www.instagram.com/alt.perfumery/',\n",
      " 'mid_notes1': 'Orange Blossom',\n",
      " 'mid_notes2': 'Jasmine',\n",
      " 'mid_notes3': 'Resin',\n",
      " 'mid_notes4': 'Cinnamon',\n",
      " 'middle notes': ['Orange Blossom', 'Jasmine', 'Resin', 'Cinnamon'],\n",
      " 'price': '229,000.00',\n",
      " 'price_per_ml': '4,580.00',\n",
      " 'size': 50,\n",
      " 'top notes': ['Neroli', 'Bergamot', 'Red Fruits'],\n",
      " 'top_notes1': 'Neroli',\n",
      " 'top_notes2': 'Bergamot',\n",
      " 'top_notes3': 'Red Fruits',\n",
      " 'variant': 'Moroccan Sunset',\n",
      " 'variant_link': 'https://shopee.co.id/altperfumery/12639590547',\n",
      " 'year': 2021}\n",
      "{'_id': ObjectId('65c3ecc62be6a0a6d64f674a'),\n",
      " 'base notes': ['Vanilla', 'Patchouli', 'Cashmeran', 'Musk'],\n",
      " 'base_notes1': 'Vanilla',\n",
      " 'base_notes2': 'Patchouli',\n",
      " 'base_notes3': 'Cashmeran',\n",
      " 'base_notes4': 'Musk',\n",
      " 'brand': 'Aromes',\n",
      " 'concentration': 'EDP',\n",
      " 'followers': 15700,\n",
      " 'instagram_link': 'https://www.instagram.com/aromes.id/',\n",
      " 'mid_notes1': 'Almond',\n",
      " 'mid_notes2': 'Blackcurrant',\n",
      " 'mid_notes3': 'Rose',\n",
      " 'mid_notes4': 'Orange Blossom',\n",
      " 'middle notes': ['Almond', 'Blackcurrant', 'Rose', 'Orange Blossom'],\n",
      " 'price': '299,000.00',\n",
      " 'price_per_ml': '5,980.00',\n",
      " 'size': 50,\n",
      " 'top notes': ['Raspberry', 'Lemon Peel'],\n",
      " 'top_notes1': 'Raspberry',\n",
      " 'top_notes2': 'Lemon Peel',\n",
      " 'variant': 'Crazy Sexy',\n",
      " 'variant_link': 'https://shopee.co.id/aromes.id/19521086160',\n",
      " 'year': 2022}\n",
      "{'_id': ObjectId('65c3ecc62be6a0a6d64f674b'),\n",
      " 'base notes': ['Vanilla', 'Musk'],\n",
      " 'base_notes1': 'Vanilla',\n",
      " 'base_notes2': 'Musk',\n",
      " 'brand': 'Ataraksia',\n",
      " 'concentration': 'EDP',\n",
      " 'followers': 8019,\n",
      " 'instagram_link': 'https://www.instagram.com/ataraksia.id/',\n",
      " 'mid_notes1': 'Oud',\n",
      " 'mid_notes2': 'Cinnamon',\n",
      " 'middle notes': ['Oud', 'Cinnamon'],\n",
      " 'price': '337,000.00',\n",
      " 'price_per_ml': '6,127.27',\n",
      " 'size': 55,\n",
      " 'top notes': ['Chocolate', 'Raspberry'],\n",
      " 'top_notes1': 'Chocolate',\n",
      " 'top_notes2': 'Raspberry',\n",
      " 'variant': 'Societeit Harmonie',\n",
      " 'variant_link': 'https://shopee.co.id/ataraksia_id/7185449983',\n",
      " 'year': 2021}\n"
     ]
    }
   ],
   "source": [
    "res = extra02_collection.find().limit(5)\n",
    "for i in range(5):\n",
    "    pprint(res.next())"
   ]
  },
  {
   "cell_type": "code",
   "execution_count": 125,
   "id": "6390e899",
   "metadata": {},
   "outputs": [],
   "source": [
    "integration_pipeline = []"
   ]
  },
  {
   "cell_type": "markdown",
   "id": "4e0cbdc6",
   "metadata": {},
   "source": [
    "Buid a translation document that translates the fields of Extra02 to Fragrances"
   ]
  },
  {
   "cell_type": "code",
   "execution_count": 126,
   "id": "33cdd5d9",
   "metadata": {},
   "outputs": [],
   "source": [
    "translation_doc = {}"
   ]
  },
  {
   "cell_type": "code",
   "execution_count": 127,
   "id": "091fdc64",
   "metadata": {},
   "outputs": [],
   "source": [
    "translation_doc[\"company\"] = \"$brand\""
   ]
  },
  {
   "cell_type": "code",
   "execution_count": 128,
   "id": "95c00396",
   "metadata": {},
   "outputs": [],
   "source": [
    "translation_doc[\"base notes\"] = \"$base notes\""
   ]
  },
  {
   "cell_type": "code",
   "execution_count": 129,
   "id": "f7334a55",
   "metadata": {},
   "outputs": [],
   "source": [
    "translation_doc[\"middle notes\"] = \"$base notes\""
   ]
  },
  {
   "cell_type": "code",
   "execution_count": 130,
   "id": "41a5ff83",
   "metadata": {},
   "outputs": [],
   "source": [
    "translation_doc[\"top notes\"] = \"$top notes\""
   ]
  },
  {
   "cell_type": "code",
   "execution_count": 131,
   "id": "cac3c347",
   "metadata": {},
   "outputs": [],
   "source": [
    "translation_doc[\"price\"] = \"$price\""
   ]
  },
  {
   "cell_type": "code",
   "execution_count": 132,
   "id": "3e9c0a87",
   "metadata": {},
   "outputs": [],
   "source": [
    "translation_doc[\"name\"] = \"$variant\""
   ]
  },
  {
   "cell_type": "code",
   "execution_count": 133,
   "id": "d8c33895",
   "metadata": {},
   "outputs": [],
   "source": [
    "translation_doc[\"year\"] = \"$year\""
   ]
  },
  {
   "cell_type": "code",
   "execution_count": 134,
   "id": "0f574d22",
   "metadata": {},
   "outputs": [],
   "source": [
    "translation_doc[\"link\"] = [\"$instagram_link\", \"$variant_link\"]"
   ]
  },
  {
   "cell_type": "markdown",
   "id": "251f2be2",
   "metadata": {},
   "source": [
    "Run a project on the Extra02 using translation to test performance"
   ]
  },
  {
   "cell_type": "code",
   "execution_count": 135,
   "id": "73a83a6d",
   "metadata": {},
   "outputs": [],
   "source": [
    "translate_columns_stage = {\n",
    "    \"$project\":translation_doc\n",
    "}"
   ]
  },
  {
   "cell_type": "code",
   "execution_count": 136,
   "id": "25e9d28b",
   "metadata": {},
   "outputs": [
    {
     "data": {
      "text/plain": [
       "{'$project': {'company': '$brand',\n",
       "  'base notes': '$base notes',\n",
       "  'middle notes': '$base notes',\n",
       "  'top notes': '$top notes',\n",
       "  'price': '$price',\n",
       "  'name': '$variant',\n",
       "  'year': '$year',\n",
       "  'link': ['$instagram_link', '$variant_link']}}"
      ]
     },
     "execution_count": 136,
     "metadata": {},
     "output_type": "execute_result"
    }
   ],
   "source": [
    "translate_columns_stage"
   ]
  },
  {
   "cell_type": "code",
   "execution_count": 137,
   "id": "38e50833",
   "metadata": {},
   "outputs": [
    {
     "name": "stdout",
     "output_type": "stream",
     "text": [
      "{'_id': ObjectId('65c3ecc62be6a0a6d64f6747'),\n",
      " 'base notes': ['Musk', 'Marine', 'Sandalwood'],\n",
      " 'company': 'Alchemist',\n",
      " 'link': ['https://www.instagram.com/alchemist.fragrance/',\n",
      "          'https://shopee.co.id/alchemist.fragrance/17137354148'],\n",
      " 'middle notes': ['Musk', 'Marine', 'Sandalwood'],\n",
      " 'name': 'Powder Room',\n",
      " 'price': '199,000.00',\n",
      " 'top notes': ['Fresh Watery Accord', 'Rose', 'Pink Pepper'],\n",
      " 'year': 2022}\n",
      "{'_id': ObjectId('65c3ecc62be6a0a6d64f6748'),\n",
      " 'base notes': [],\n",
      " 'company': 'Alien Objects',\n",
      " 'link': ['https://www.instagram.com/alienobjects/',\n",
      "          'https://shopee.co.id/alienobjects/14283008217'],\n",
      " 'middle notes': [],\n",
      " 'name': 'XOXO',\n",
      " 'price': '750,000.00',\n",
      " 'top notes': ['Dew', 'Strawberry', 'Lotus', 'Tulip', 'Musk', 'Oakmoss'],\n",
      " 'year': 2019}\n",
      "{'_id': ObjectId('65c3ecc62be6a0a6d64f6749'),\n",
      " 'base notes': ['Vanilla', 'Caramel', 'Musk', 'Cedarwood'],\n",
      " 'company': 'ALT Perfumery',\n",
      " 'link': ['https://www.instagram.com/alt.perfumery/',\n",
      "          'https://shopee.co.id/altperfumery/12639590547'],\n",
      " 'middle notes': ['Vanilla', 'Caramel', 'Musk', 'Cedarwood'],\n",
      " 'name': 'Moroccan Sunset',\n",
      " 'price': '229,000.00',\n",
      " 'top notes': ['Neroli', 'Bergamot', 'Red Fruits'],\n",
      " 'year': 2021}\n",
      "{'_id': ObjectId('65c3ecc62be6a0a6d64f674a'),\n",
      " 'base notes': ['Vanilla', 'Patchouli', 'Cashmeran', 'Musk'],\n",
      " 'company': 'Aromes',\n",
      " 'link': ['https://www.instagram.com/aromes.id/',\n",
      "          'https://shopee.co.id/aromes.id/19521086160'],\n",
      " 'middle notes': ['Vanilla', 'Patchouli', 'Cashmeran', 'Musk'],\n",
      " 'name': 'Crazy Sexy',\n",
      " 'price': '299,000.00',\n",
      " 'top notes': ['Raspberry', 'Lemon Peel'],\n",
      " 'year': 2022}\n",
      "{'_id': ObjectId('65c3ecc62be6a0a6d64f674b'),\n",
      " 'base notes': ['Vanilla', 'Musk'],\n",
      " 'company': 'Ataraksia',\n",
      " 'link': ['https://www.instagram.com/ataraksia.id/',\n",
      "          'https://shopee.co.id/ataraksia_id/7185449983'],\n",
      " 'middle notes': ['Vanilla', 'Musk'],\n",
      " 'name': 'Societeit Harmonie',\n",
      " 'price': '337,000.00',\n",
      " 'top notes': ['Chocolate', 'Raspberry'],\n",
      " 'year': 2021}\n"
     ]
    }
   ],
   "source": [
    "res = extra02_collection.aggregate([translate_columns_stage])\n",
    "for i in range(5):\n",
    "    pprint(res.next())"
   ]
  },
  {
   "cell_type": "markdown",
   "id": "bfb7d672",
   "metadata": {},
   "source": [
    "Do the final merge/integration into fragrances"
   ]
  },
  {
   "cell_type": "code",
   "execution_count": 138,
   "id": "73bfbd17",
   "metadata": {},
   "outputs": [],
   "source": [
    "merge_stage = {\"$merge\": {\"into\": \"Fragrances\"}}"
   ]
  },
  {
   "cell_type": "code",
   "execution_count": 139,
   "id": "4d734fff",
   "metadata": {},
   "outputs": [],
   "source": [
    "integration_pipeline.extend([translate_columns_stage, merge_stage])"
   ]
  },
  {
   "cell_type": "code",
   "execution_count": 140,
   "id": "e7a4cb8d",
   "metadata": {},
   "outputs": [
    {
     "data": {
      "text/plain": [
       "[{'$project': {'company': '$brand',\n",
       "   'base notes': '$base notes',\n",
       "   'middle notes': '$base notes',\n",
       "   'top notes': '$top notes',\n",
       "   'price': '$price',\n",
       "   'name': '$variant',\n",
       "   'year': '$year',\n",
       "   'link': ['$instagram_link', '$variant_link']}},\n",
       " {'$merge': {'into': 'Fragrances'}}]"
      ]
     },
     "execution_count": 140,
     "metadata": {},
     "output_type": "execute_result"
    }
   ],
   "source": [
    "integration_pipeline"
   ]
  },
  {
   "cell_type": "code",
   "execution_count": 141,
   "id": "8a53e4b0",
   "metadata": {},
   "outputs": [
    {
     "data": {
      "text/plain": [
       "4563"
      ]
     },
     "execution_count": 141,
     "metadata": {},
     "output_type": "execute_result"
    }
   ],
   "source": [
    "fragrances_collection.count_documents({})"
   ]
  },
  {
   "cell_type": "code",
   "execution_count": 142,
   "id": "adb2ebb3",
   "metadata": {},
   "outputs": [
    {
     "data": {
      "text/plain": [
       "<pymongo.command_cursor.CommandCursor at 0x1a656f36b90>"
      ]
     },
     "execution_count": 142,
     "metadata": {},
     "output_type": "execute_result"
    }
   ],
   "source": [
    "extra02_collection.aggregate(integration_pipeline)"
   ]
  },
  {
   "cell_type": "code",
   "execution_count": 143,
   "id": "2c6917ad",
   "metadata": {},
   "outputs": [
    {
     "data": {
      "text/plain": [
       "4563"
      ]
     },
     "execution_count": 143,
     "metadata": {},
     "output_type": "execute_result"
    }
   ],
   "source": [
    "fragrances_collection.count_documents({})"
   ]
  },
  {
   "cell_type": "code",
   "execution_count": 144,
   "id": "7f9e8e2f",
   "metadata": {},
   "outputs": [],
   "source": [
    "client.close()"
   ]
  },
  {
   "cell_type": "markdown",
   "id": "96bb5c8a",
   "metadata": {},
   "source": [
    "Done!"
   ]
  }
 ],
 "metadata": {
  "kernelspec": {
   "display_name": "Python 3 (ipykernel)",
   "language": "python",
   "name": "python3"
  },
  "language_info": {
   "codemirror_mode": {
    "name": "ipython",
    "version": 3
   },
   "file_extension": ".py",
   "mimetype": "text/x-python",
   "name": "python",
   "nbconvert_exporter": "python",
   "pygments_lexer": "ipython3",
   "version": "3.11.5"
  }
 },
 "nbformat": 4,
 "nbformat_minor": 5
}
