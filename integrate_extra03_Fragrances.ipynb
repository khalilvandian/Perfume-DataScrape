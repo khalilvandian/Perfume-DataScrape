{
 "cells": [
  {
   "cell_type": "code",
   "execution_count": 3,
   "id": "b7fb374d",
   "metadata": {},
   "outputs": [],
   "source": [
    "from pymongo import MongoClient\n",
    "from pymongo import errors\n",
    "from pprint import pprint\n",
    "import numpy as np\n",
    "import re"
   ]
  },
  {
   "cell_type": "code",
   "execution_count": 4,
   "id": "25d05a22",
   "metadata": {},
   "outputs": [],
   "source": [
    "def connect_database():\n",
    "    client = MongoClient('localhost', 27017)\n",
    "    return client"
   ]
  },
  {
   "cell_type": "code",
   "execution_count": 5,
   "id": "d967e7af",
   "metadata": {},
   "outputs": [],
   "source": [
    "client = connect_database()"
   ]
  },
  {
   "cell_type": "code",
   "execution_count": 6,
   "id": "5d76a098",
   "metadata": {},
   "outputs": [
    {
     "data": {
      "text/plain": [
       "['Kitchen_test',\n",
       " 'Perfume_Database',\n",
       " 'WorldDevelopmentIndicators',\n",
       " 'admin',\n",
       " 'config',\n",
       " 'local']"
      ]
     },
     "execution_count": 6,
     "metadata": {},
     "output_type": "execute_result"
    }
   ],
   "source": [
    "client.list_database_names()"
   ]
  },
  {
   "cell_type": "code",
   "execution_count": 7,
   "id": "f2f5508e",
   "metadata": {},
   "outputs": [],
   "source": [
    "perfume_database = client.Perfume_Database"
   ]
  },
  {
   "cell_type": "code",
   "execution_count": 8,
   "id": "402e45e4",
   "metadata": {},
   "outputs": [
    {
     "name": "stdout",
     "output_type": "stream",
     "text": [
      "['Cleared_Crawled_Perfumes',\n",
      " 'Scraped_Perfumes',\n",
      " 'Extra01',\n",
      " 'Extra03',\n",
      " 'Perfumes',\n",
      " 'Extra02',\n",
      " 'Fragrances',\n",
      " 'Crawled_Perfumes']\n"
     ]
    }
   ],
   "source": [
    "pprint(perfume_database.list_collection_names())"
   ]
  },
  {
   "cell_type": "code",
   "execution_count": 10,
   "id": "1befb811",
   "metadata": {},
   "outputs": [],
   "source": [
    "extra03_collection = perfume_database.Extra03\n",
    "fragrances_collection = perfume_database.Fragrances"
   ]
  },
  {
   "cell_type": "markdown",
   "id": "6b15e674",
   "metadata": {},
   "source": [
    "# Locate existing perfumes in fragrances that exists in Extra03"
   ]
  },
  {
   "cell_type": "code",
   "execution_count": 11,
   "id": "bf024894",
   "metadata": {},
   "outputs": [],
   "source": [
    "location_pipeline = []"
   ]
  },
  {
   "cell_type": "code",
   "execution_count": null,
   "id": "5f7189b3",
   "metadata": {},
   "outputs": [],
   "source": []
  }
 ],
 "metadata": {
  "kernelspec": {
   "display_name": "Python 3 (ipykernel)",
   "language": "python",
   "name": "python3"
  },
  "language_info": {
   "codemirror_mode": {
    "name": "ipython",
    "version": 3
   },
   "file_extension": ".py",
   "mimetype": "text/x-python",
   "name": "python",
   "nbconvert_exporter": "python",
   "pygments_lexer": "ipython3",
   "version": "3.11.5"
  }
 },
 "nbformat": 4,
 "nbformat_minor": 5
}
