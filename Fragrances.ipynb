{
 "cells": [
  {
   "cell_type": "code",
   "execution_count": 1,
   "id": "b7fb374d",
   "metadata": {},
   "outputs": [],
   "source": [
    "from pymongo import MongoClient\n",
    "from pymongo import errors\n",
    "from pprint import pprint\n",
    "import numpy as np"
   ]
  },
  {
   "cell_type": "code",
   "execution_count": 2,
   "id": "25d05a22",
   "metadata": {},
   "outputs": [],
   "source": [
    "def connect_database():\n",
    "    client = MongoClient('localhost', 27017)\n",
    "    return client"
   ]
  },
  {
   "cell_type": "code",
   "execution_count": 3,
   "id": "d967e7af",
   "metadata": {},
   "outputs": [],
   "source": [
    "client = connect_database()"
   ]
  },
  {
   "cell_type": "code",
   "execution_count": 4,
   "id": "5d76a098",
   "metadata": {},
   "outputs": [
    {
     "data": {
      "text/plain": [
       "['Kitchen_test',\n",
       " 'Perfume_Database',\n",
       " 'WorldDevelopmentIndicators',\n",
       " 'admin',\n",
       " 'config',\n",
       " 'local']"
      ]
     },
     "execution_count": 4,
     "metadata": {},
     "output_type": "execute_result"
    }
   ],
   "source": [
    "client.list_database_names()"
   ]
  },
  {
   "cell_type": "code",
   "execution_count": 5,
   "id": "f2f5508e",
   "metadata": {},
   "outputs": [],
   "source": [
    "perfume_database = client.Perfume_Database"
   ]
  },
  {
   "cell_type": "code",
   "execution_count": 6,
   "id": "402e45e4",
   "metadata": {},
   "outputs": [
    {
     "name": "stdout",
     "output_type": "stream",
     "text": [
      "['Cleared_Crawled_Perfumes',\n",
      " 'Scraped_Perfumes',\n",
      " 'Perfumes',\n",
      " 'Fragrances',\n",
      " 'Crawled_Perfumes']\n"
     ]
    }
   ],
   "source": [
    "pprint(perfume_database.list_collection_names())"
   ]
  },
  {
   "cell_type": "code",
   "execution_count": 7,
   "id": "1befb811",
   "metadata": {},
   "outputs": [],
   "source": [
    "scraped_perfumes_collection = perfume_database.Scraped_Perfumes"
   ]
  },
  {
   "cell_type": "markdown",
   "id": "474e54c1",
   "metadata": {},
   "source": [
    "# Copy data to the \"fragrances\" collection"
   ]
  },
  {
   "cell_type": "code",
   "execution_count": 8,
   "id": "b4d33e39",
   "metadata": {},
   "outputs": [],
   "source": [
    "# scraped_perfumes_collection.aggregate([{\"$out\": \"Fragrances\"}])"
   ]
  },
  {
   "cell_type": "code",
   "execution_count": 9,
   "id": "d4a473b1",
   "metadata": {},
   "outputs": [],
   "source": [
    "# fragrances_collection = perfume_database.Fragrances"
   ]
  },
  {
   "cell_type": "markdown",
   "id": "534ac0db",
   "metadata": {},
   "source": [
    "# Clean the documents"
   ]
  },
  {
   "cell_type": "markdown",
   "id": "7b75c1a5",
   "metadata": {},
   "source": [
    "# Gender Votes"
   ]
  },
  {
   "cell_type": "markdown",
   "id": "c275c0ea",
   "metadata": {},
   "source": [
    "Get the votes for gender"
   ]
  },
  {
   "cell_type": "code",
   "execution_count": 10,
   "id": "dc21a30f",
   "metadata": {},
   "outputs": [],
   "source": [
    "# project_gender_rates = {\n",
    "#         '$project': {\n",
    "#             'more_female': '$gender_vote.more female', \n",
    "#             'female': '$gender_vote.female', \n",
    "#             'unisex': '$gender_vote.unisex', \n",
    "#             'male': '$gender_vote.male', \n",
    "#             'more_male': '$gender_vote.more male'\n",
    "#         }\n",
    "#     }"
   ]
  },
  {
   "cell_type": "code",
   "execution_count": 11,
   "id": "6a91d20b",
   "metadata": {},
   "outputs": [],
   "source": [
    "# gender_vote_pipeline = [project_gender_rates]"
   ]
  },
  {
   "cell_type": "code",
   "execution_count": 12,
   "id": "9f3ea237",
   "metadata": {},
   "outputs": [],
   "source": [
    "# res = list(fragrances_collection.aggregate(gender_vote_pipeline))"
   ]
  },
  {
   "cell_type": "markdown",
   "id": "8b42c778",
   "metadata": {},
   "source": [
    "Calculate the summation and the average. more female -2 and more male is +2"
   ]
  },
  {
   "cell_type": "code",
   "execution_count": 13,
   "id": "fb27f2e8",
   "metadata": {},
   "outputs": [],
   "source": [
    "# updated_gender_votes = []"
   ]
  },
  {
   "cell_type": "code",
   "execution_count": 14,
   "id": "57bb0cfd",
   "metadata": {},
   "outputs": [],
   "source": [
    "# for document in res:\n",
    "#     votes = np.array([document[\"more_female\"], document[\"female\"], document[\"unisex\"], document[\"male\"], document[\"more_male\"]])\n",
    "#     weights = np.array([-2, -1, 0, 1, 2])\n",
    "    \n",
    "#     gender_votes = {}\n",
    "#     gender_votes[\"id\"] = document[\"_id\"]\n",
    "#     gender_votes[\"average\"] = round(np.dot(votes, weights)/np.sum(votes), 1) if np.sum(votes) != 0 else \"no_votes\"\n",
    "#     gender_votes[\"votes_count\"] = np.sum(votes)\n",
    "    \n",
    "#     updated_gender_votes.append(gender_votes)"
   ]
  },
  {
   "cell_type": "code",
   "execution_count": 15,
   "id": "1e854e0d",
   "metadata": {},
   "outputs": [],
   "source": [
    "# for document in updated_gender_votes:\n",
    "    \n",
    "#     new_gender_vote = {\n",
    "#         \"average\": document[\"average\"],\n",
    "#         \"votes_count\": int(document[\"votes_count\"])\n",
    "#     }\n",
    "        \n",
    "#     fragrances_collection.update_one({\"_id\": document[\"id\"]}, {\"$set\": {\"gender_vote\": new_gender_vote}})"
   ]
  },
  {
   "cell_type": "markdown",
   "id": "3d920862",
   "metadata": {},
   "source": [
    "# y"
   ]
  },
  {
   "cell_type": "code",
   "execution_count": 16,
   "id": "c21cf5ea",
   "metadata": {},
   "outputs": [],
   "source": [
    "fragrances_collection = perfume_database.Fragrances"
   ]
  },
  {
   "cell_type": "code",
   "execution_count": 18,
   "id": "664d15e9",
   "metadata": {},
   "outputs": [
    {
     "name": "stdout",
     "output_type": "stream",
     "text": [
      "{'_id': ObjectId('65a54ac72b32912eefb9ea54'),\n",
      " 'base notes': ['Civet', 'Resins', 'Musk'],\n",
      " 'company': 'Bogue',\n",
      " 'description': 'Maai by Bogue is a Floral Woody Musk fragrance for women and '\n",
      "                'men. Maai was launched in 2014. The nose behind this '\n",
      "                'fragrance is Antonio Gardoni. Top notes are Aldehydes and '\n",
      "                'Tuberose; middle notes are Jasmine and Rose; base notes are '\n",
      "                'Civet, Resins and Musk. .',\n",
      " 'gender': 'for women and men',\n",
      " 'gender_vote': {'average': 0.2, 'votes_count': 130},\n",
      " 'image': 'https://fimgs.net/mdimg/perfume/375x500.26681.jpg',\n",
      " 'longevity': {'eternal': 69,\n",
      "               'long lasting': 140,\n",
      "               'moderate': 28,\n",
      "               'very weak': 23,\n",
      "               'weak': 9},\n",
      " 'main accords': {'aldehydic': 71.419,\n",
      "                  'amber': 70.8567,\n",
      "                  'animalic': 80.9679,\n",
      "                  'balsamic': 44.2436,\n",
      "                  'fresh': 57.3066,\n",
      "                  'musky': 100.0,\n",
      "                  'powdery': 62.7979,\n",
      "                  'rose': 45.3681,\n",
      "                  'tuberose': 63.1727,\n",
      "                  'white floral': 81.0897},\n",
      " 'middle notes': ['Jasmine', 'Rose'],\n",
      " 'name': 'Maai',\n",
      " 'number_votes': 602,\n",
      " 'price value': {'good value': 25,\n",
      "                 'great value': 4,\n",
      "                 'ok': 49,\n",
      "                 'overpriced': 19,\n",
      "                 'way overpriced': 5},\n",
      " 'rating': 4.18,\n",
      " 'sillage': {'enormous': 76, 'intimate': 27, 'moderate': 69, 'strong': 146},\n",
      " 'top notes': ['Aldehydes', 'Tuberose'],\n",
      " 'url': 'https://www.fragrantica.com/perfume/Bogue/Maai-26681.html'}\n"
     ]
    }
   ],
   "source": [
    "pprint(fragrances_collection.find_one())"
   ]
  },
  {
   "cell_type": "code",
   "execution_count": null,
   "id": "11e73f58",
   "metadata": {},
   "outputs": [],
   "source": []
  }
 ],
 "metadata": {
  "kernelspec": {
   "display_name": "Python 3 (ipykernel)",
   "language": "python",
   "name": "python3"
  },
  "language_info": {
   "codemirror_mode": {
    "name": "ipython",
    "version": 3
   },
   "file_extension": ".py",
   "mimetype": "text/x-python",
   "name": "python",
   "nbconvert_exporter": "python",
   "pygments_lexer": "ipython3",
   "version": "3.11.5"
  }
 },
 "nbformat": 4,
 "nbformat_minor": 5
}
