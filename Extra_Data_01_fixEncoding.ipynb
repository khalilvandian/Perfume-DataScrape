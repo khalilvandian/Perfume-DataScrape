{
 "cells": [
  {
   "cell_type": "code",
   "execution_count": 4,
   "id": "728a1fb2",
   "metadata": {},
   "outputs": [],
   "source": [
    "# Replace 'file_path.csv' with the path to your CSV file\n",
    "file_path = 'D:/Unimib/Data Management/Project/Data/final_perfume_data.csv'\n",
    "corrected_file = 'D:/Unimib/Data Management/Project/Data/final_perfume_data_encodingCorrected.csv'"
   ]
  },
  {
   "cell_type": "code",
   "execution_count": null,
   "id": "437d2f44",
   "metadata": {},
   "outputs": [],
   "source": [
    "with open(file_path, 'r', encoding='utf-8') as file:\n",
    "    try:\n",
    "        for line_number, line in enumerate(file, start=1):\n",
    "            # Attempt to decode the line\n",
    "            line.encode('utf-8').decode('utf-8')\n",
    "    except UnicodeDecodeError as e:\n",
    "        # Re-open the file and iterate until the problematic line is reached\n",
    "        with open(file_path, 'r', encoding='utf-8') as file:\n",
    "            for _ in range(line_number - 1):\n",
    "                next(file)\n",
    "            # Read and print the problematic line\n",
    "            problematic_line = next(file).strip()\n",
    "            print(f\"UnicodeDecodeError occurred at line {line_number}: {e}\")\n",
    "            print(f\"Problematic line content: {problematic_line}\")"
   ]
  },
  {
   "cell_type": "code",
   "execution_count": null,
   "id": "babd08bf",
   "metadata": {},
   "outputs": [],
   "source": [
    "import codecs\n",
    "\n",
    "# Open the non-UTF-8 file for reading\n",
    "with open(file_path, 'rb') as f:\n",
    "    # Read the content of the non-UTF-8 file\n",
    "    content = f.read()\n",
    "\n",
    "# Specify the encoding of the non-UTF-8 file\n",
    "source_encoding = 'ISO-8859-1'  # Change this to the appropriate encoding\n",
    "\n",
    "# Decode the content from the specified encoding\n",
    "decoded_content = content.decode(source_encoding)\n",
    "\n",
    "# Open a new UTF-8 file for writing\n",
    "with codecs.open(corrected_file, 'w', 'utf-8') as f:\n",
    "    # Write the decoded content to the new UTF-8 file\n",
    "    f.write(decoded_content)\n",
    "\n",
    "print(\"File converted to UTF-8 successfully!\")"
   ]
  }
 ],
 "metadata": {
  "kernelspec": {
   "display_name": "Python 3 (ipykernel)",
   "language": "python",
   "name": "python3"
  },
  "language_info": {
   "codemirror_mode": {
    "name": "ipython",
    "version": 3
   },
   "file_extension": ".py",
   "mimetype": "text/x-python",
   "name": "python",
   "nbconvert_exporter": "python",
   "pygments_lexer": "ipython3",
   "version": "3.11.5"
  }
 },
 "nbformat": 4,
 "nbformat_minor": 5
}
