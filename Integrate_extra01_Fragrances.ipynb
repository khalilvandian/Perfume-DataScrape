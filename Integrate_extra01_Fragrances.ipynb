{
 "cells": [
  {
   "cell_type": "code",
   "execution_count": 29,
   "id": "b7fb374d",
   "metadata": {},
   "outputs": [],
   "source": [
    "from pymongo import MongoClient\n",
    "from pymongo import errors\n",
    "from pprint import pprint\n",
    "import numpy as np"
   ]
  },
  {
   "cell_type": "code",
   "execution_count": 30,
   "id": "25d05a22",
   "metadata": {},
   "outputs": [],
   "source": [
    "def connect_database():\n",
    "    client = MongoClient('localhost', 27017)\n",
    "    return client"
   ]
  },
  {
   "cell_type": "code",
   "execution_count": 31,
   "id": "d967e7af",
   "metadata": {},
   "outputs": [],
   "source": [
    "client = connect_database()"
   ]
  },
  {
   "cell_type": "code",
   "execution_count": 32,
   "id": "5d76a098",
   "metadata": {},
   "outputs": [
    {
     "data": {
      "text/plain": [
       "['Kitchen_test',\n",
       " 'Perfume_Database',\n",
       " 'WorldDevelopmentIndicators',\n",
       " 'admin',\n",
       " 'config',\n",
       " 'local']"
      ]
     },
     "execution_count": 32,
     "metadata": {},
     "output_type": "execute_result"
    }
   ],
   "source": [
    "client.list_database_names()"
   ]
  },
  {
   "cell_type": "code",
   "execution_count": 33,
   "id": "f2f5508e",
   "metadata": {},
   "outputs": [],
   "source": [
    "perfume_database = client.Perfume_Database"
   ]
  },
  {
   "cell_type": "code",
   "execution_count": 34,
   "id": "402e45e4",
   "metadata": {},
   "outputs": [
    {
     "name": "stdout",
     "output_type": "stream",
     "text": [
      "['Cleared_Crawled_Perfumes',\n",
      " 'Scraped_Perfumes',\n",
      " 'Extra01',\n",
      " 'Extra03',\n",
      " 'Perfumes',\n",
      " 'Extra02',\n",
      " 'Fragrances',\n",
      " 'Crawled_Perfumes']\n"
     ]
    }
   ],
   "source": [
    "pprint(perfume_database.list_collection_names())"
   ]
  },
  {
   "cell_type": "code",
   "execution_count": 35,
   "id": "1befb811",
   "metadata": {},
   "outputs": [],
   "source": [
    "fragrances = perfume_database.Fragrances\n",
    "extra01 = perfume_database.Extra01"
   ]
  },
  {
   "cell_type": "markdown",
   "id": "286788bf",
   "metadata": {},
   "source": [
    "# Compare the two collection"
   ]
  },
  {
   "cell_type": "code",
   "execution_count": 36,
   "id": "17796d9c",
   "metadata": {},
   "outputs": [
    {
     "name": "stdout",
     "output_type": "stream",
     "text": [
      "{'_id': ObjectId('65a54ac72b32912eefb9ea54'),\n",
      " 'base notes': ['Civet', 'Resins', 'Musk'],\n",
      " 'company': 'Bogue',\n",
      " 'description': 'Maai by Bogue is a Floral Woody Musk fragrance for women and '\n",
      "                'men. Maai was launched in 2014. The nose behind this '\n",
      "                'fragrance is Antonio Gardoni. Top notes are Aldehydes and '\n",
      "                'Tuberose; middle notes are Jasmine and Rose; base notes are '\n",
      "                'Civet, Resins and Musk. .',\n",
      " 'gender': 'for women and men',\n",
      " 'gender_vote': {'average': 0.2, 'votes_count': 130},\n",
      " 'image': 'https://fimgs.net/mdimg/perfume/375x500.26681.jpg',\n",
      " 'longevity': {'eternal': 69,\n",
      "               'long lasting': 140,\n",
      "               'moderate': 28,\n",
      "               'very weak': 23,\n",
      "               'weak': 9},\n",
      " 'main accords': {'aldehydic': 71.419,\n",
      "                  'amber': 70.8567,\n",
      "                  'animalic': 80.9679,\n",
      "                  'balsamic': 44.2436,\n",
      "                  'fresh': 57.3066,\n",
      "                  'musky': 100.0,\n",
      "                  'powdery': 62.7979,\n",
      "                  'rose': 45.3681,\n",
      "                  'tuberose': 63.1727,\n",
      "                  'white floral': 81.0897},\n",
      " 'middle notes': ['Jasmine', 'Rose'],\n",
      " 'name': 'Maai',\n",
      " 'number_votes': 602,\n",
      " 'price value': {'good value': 25,\n",
      "                 'great value': 4,\n",
      "                 'ok': 49,\n",
      "                 'overpriced': 19,\n",
      "                 'way overpriced': 5},\n",
      " 'rating': 4.18,\n",
      " 'sillage': {'enormous': 76, 'intimate': 27, 'moderate': 69, 'strong': 146},\n",
      " 'top notes': ['Aldehydes', 'Tuberose'],\n",
      " 'url': 'https://www.fragrantica.com/perfume/Bogue/Maai-26681.html'}\n"
     ]
    }
   ],
   "source": [
    "pprint(fragrances.find_one())"
   ]
  },
  {
   "cell_type": "code",
   "execution_count": 37,
   "id": "9d50e078",
   "metadata": {},
   "outputs": [
    {
     "name": "stdout",
     "output_type": "stream",
     "text": [
      "{'Brand': 'Indult',\n",
      " 'Description': ' Rapa Nui for sugar, Tihota is, quite simply, The One. The '\n",
      "                \"One that will call to you every moment you're not smelling \"\n",
      "                \"it, The One that you've only had hints of in other vanilla \"\n",
      "                'perfumes, The One that lasts and lasts, The One that has '\n",
      "                'perfectly captured the essence of the pure nature of fresh '\n",
      "                'vanilla beans and has harnessed it beyond your wildest '\n",
      "                'dreams. It inspires obsessive devotion with its fragrance of '\n",
      "                'smooth, vanilla bean pods dipped in honeyed water and left to '\n",
      "                'steep. The result is the pure magic, an unbridled vanilla, '\n",
      "                \"sweet, raw and achingly desirable. Of course, Tihota isn't \"\n",
      "                'the first perfume to focus on the dark sweetness of '\n",
      "                'vanilla... perfumery is filled with vanillas, but this smells '\n",
      "                'like the dream of a master perfumer who was obsessed with '\n",
      "                'vanilla and was finally given free rein to worship the note '\n",
      "                'with no apologies. It is, without a sliver of a doubt, the '\n",
      "                \"finest pure vanilla we've ever had the honor of carrying, and \"\n",
      "                \"it's so beautiful it pains us to put the bottle down.\",\n",
      " 'Image URL': 'https://static.luckyscent.com/images/products/37401.jpg?width=400&404=product.png',\n",
      " 'Name': 'Tihota Eau de Parfum',\n",
      " 'Notes': ' Vanilla bean, musks',\n",
      " '_id': ObjectId('65c3d3942be6a0a6d64f5eb6')}\n"
     ]
    }
   ],
   "source": [
    "pprint(extra01.find_one())"
   ]
  },
  {
   "cell_type": "markdown",
   "id": "5d2a6939",
   "metadata": {},
   "source": [
    "# Integration"
   ]
  },
  {
   "cell_type": "code",
   "execution_count": 38,
   "id": "b6948a80",
   "metadata": {},
   "outputs": [],
   "source": [
    "integration_pipeline = []"
   ]
  },
  {
   "cell_type": "markdown",
   "id": "b71717d8",
   "metadata": {},
   "source": [
    "Sample transition to Fragrances"
   ]
  },
  {
   "cell_type": "code",
   "execution_count": 39,
   "id": "60dbd06c",
   "metadata": {},
   "outputs": [],
   "source": [
    "translation_doc = {}"
   ]
  },
  {
   "cell_type": "code",
   "execution_count": 40,
   "id": "315f230a",
   "metadata": {},
   "outputs": [],
   "source": [
    "translation_doc[\"description\"] = \"$Description\""
   ]
  },
  {
   "cell_type": "code",
   "execution_count": 41,
   "id": "cac3c347",
   "metadata": {},
   "outputs": [],
   "source": [
    "translation_doc[\"company\"] = \"$Brand\""
   ]
  },
  {
   "cell_type": "code",
   "execution_count": 42,
   "id": "95c00396",
   "metadata": {},
   "outputs": [],
   "source": [
    "translation_doc[\"notes\"] = \"$Notes\""
   ]
  },
  {
   "cell_type": "code",
   "execution_count": 43,
   "id": "bc3d34ff",
   "metadata": {},
   "outputs": [],
   "source": [
    "translation_doc[\"image\"] = \"$Image URL\""
   ]
  },
  {
   "cell_type": "code",
   "execution_count": 44,
   "id": "3e9c0a87",
   "metadata": {},
   "outputs": [],
   "source": [
    "translation_doc[\"name\"] = \"$Name\""
   ]
  },
  {
   "cell_type": "code",
   "execution_count": 45,
   "id": "e9e1b684",
   "metadata": {},
   "outputs": [
    {
     "data": {
      "text/plain": [
       "{'description': '$Description',\n",
       " 'company': '$Brand',\n",
       " 'notes': '$Notes',\n",
       " 'image': '$Image URL',\n",
       " 'name': '$Name'}"
      ]
     },
     "execution_count": 45,
     "metadata": {},
     "output_type": "execute_result"
    }
   ],
   "source": [
    "translation_doc"
   ]
  },
  {
   "cell_type": "markdown",
   "id": "f04b5074",
   "metadata": {},
   "source": [
    "The translation will be used in a project stage in order to do the translation"
   ]
  },
  {
   "cell_type": "code",
   "execution_count": 46,
   "id": "f6642ec1",
   "metadata": {},
   "outputs": [],
   "source": [
    "translate_columns_stage = {\n",
    "    \"$project\":translation_doc\n",
    "}"
   ]
  },
  {
   "cell_type": "code",
   "execution_count": 47,
   "id": "43c87fde",
   "metadata": {},
   "outputs": [],
   "source": [
    "integration_pipeline.append(translate_columns_stage)"
   ]
  },
  {
   "cell_type": "code",
   "execution_count": 48,
   "id": "934abfbb",
   "metadata": {},
   "outputs": [
    {
     "data": {
      "text/plain": [
       "[{'$project': {'description': '$Description',\n",
       "   'company': '$Brand',\n",
       "   'notes': '$Notes',\n",
       "   'image': '$Image URL',\n",
       "   'name': '$Name'}}]"
      ]
     },
     "execution_count": 48,
     "metadata": {},
     "output_type": "execute_result"
    }
   ],
   "source": [
    "integration_pipeline"
   ]
  },
  {
   "cell_type": "markdown",
   "id": "5030c51e",
   "metadata": {},
   "source": [
    "test the translation using aggregation"
   ]
  },
  {
   "cell_type": "code",
   "execution_count": 49,
   "id": "3725af8a",
   "metadata": {},
   "outputs": [
    {
     "data": {
      "text/plain": [
       "{'_id': ObjectId('65c3d3942be6a0a6d64f5eb6'),\n",
       " 'description': \" Rapa Nui for sugar, Tihota is, quite simply, The One. The One that will call to you every moment you're not smelling it, The One that you've only had hints of in other vanilla perfumes, The One that lasts and lasts, The One that has perfectly captured the essence of the pure nature of fresh vanilla beans and has harnessed it beyond your wildest dreams. It inspires obsessive devotion with its fragrance of smooth, vanilla bean pods dipped in honeyed water and left to steep. The result is the pure magic, an unbridled vanilla, sweet, raw and achingly desirable. Of course, Tihota isn't the first perfume to focus on the dark sweetness of vanilla... perfumery is filled with vanillas, but this smells like the dream of a master perfumer who was obsessed with vanilla and was finally given free rein to worship the note with no apologies. It is, without a sliver of a doubt, the finest pure vanilla we've ever had the honor of carrying, and it's so beautiful it pains us to put the bottle down.\",\n",
       " 'company': 'Indult',\n",
       " 'notes': ' Vanilla bean, musks',\n",
       " 'image': 'https://static.luckyscent.com/images/products/37401.jpg?width=400&404=product.png',\n",
       " 'name': 'Tihota Eau de Parfum'}"
      ]
     },
     "execution_count": 49,
     "metadata": {},
     "output_type": "execute_result"
    }
   ],
   "source": [
    "extra01.aggregate(integration_pipeline).next()"
   ]
  },
  {
   "cell_type": "markdown",
   "id": "e0bc0f24",
   "metadata": {},
   "source": [
    "Now that translation is sucessful, we must merge it with the main dataset.\n",
    "For doing so a merge stage will be used."
   ]
  },
  {
   "cell_type": "code",
   "execution_count": 50,
   "id": "94f8cd94",
   "metadata": {},
   "outputs": [],
   "source": [
    "merge_stage = {\"$merge\": {\"into\": \"Fragrances\"}}"
   ]
  },
  {
   "cell_type": "code",
   "execution_count": 51,
   "id": "a3398728",
   "metadata": {},
   "outputs": [],
   "source": [
    "integration_pipeline.append(merge_stage)"
   ]
  },
  {
   "cell_type": "code",
   "execution_count": 52,
   "id": "01a0ab5d",
   "metadata": {},
   "outputs": [
    {
     "name": "stdout",
     "output_type": "stream",
     "text": [
      "[{'$project': {'company': '$Brand',\n",
      "               'description': '$Description',\n",
      "               'image': '$Image URL',\n",
      "               'name': '$Name',\n",
      "               'notes': '$Notes'}},\n",
      " {'$merge': {'into': 'Fragrances'}}]\n"
     ]
    }
   ],
   "source": [
    "pprint(integration_pipeline)"
   ]
  },
  {
   "cell_type": "markdown",
   "id": "cac95dcd",
   "metadata": {},
   "source": [
    "Now the pipline is ready and will be applied. but before aggregation we'll get a count from the main dataset to compare it with the after."
   ]
  },
  {
   "cell_type": "code",
   "execution_count": 53,
   "id": "657c9f2f",
   "metadata": {},
   "outputs": [
    {
     "data": {
      "text/plain": [
       "4563"
      ]
     },
     "execution_count": 53,
     "metadata": {},
     "output_type": "execute_result"
    }
   ],
   "source": [
    "fragrances.count_documents({})"
   ]
  },
  {
   "cell_type": "code",
   "execution_count": 54,
   "id": "2c20a9d6",
   "metadata": {},
   "outputs": [
    {
     "data": {
      "text/plain": [
       "<pymongo.command_cursor.CommandCursor at 0x2c76ef18690>"
      ]
     },
     "execution_count": 54,
     "metadata": {},
     "output_type": "execute_result"
    }
   ],
   "source": [
    "extra01.aggregate(integration_pipeline)"
   ]
  },
  {
   "cell_type": "code",
   "execution_count": 55,
   "id": "aac83107",
   "metadata": {},
   "outputs": [
    {
     "data": {
      "text/plain": [
       "4563"
      ]
     },
     "execution_count": 55,
     "metadata": {},
     "output_type": "execute_result"
    }
   ],
   "source": [
    "fragrances.count_documents({})"
   ]
  },
  {
   "cell_type": "code",
   "execution_count": 56,
   "id": "81946d49",
   "metadata": {},
   "outputs": [],
   "source": [
    "client.close()"
   ]
  },
  {
   "cell_type": "code",
   "execution_count": null,
   "id": "0576ea59",
   "metadata": {},
   "outputs": [],
   "source": []
  }
 ],
 "metadata": {
  "kernelspec": {
   "display_name": "Python 3 (ipykernel)",
   "language": "python",
   "name": "python3"
  },
  "language_info": {
   "codemirror_mode": {
    "name": "ipython",
    "version": 3
   },
   "file_extension": ".py",
   "mimetype": "text/x-python",
   "name": "python",
   "nbconvert_exporter": "python",
   "pygments_lexer": "ipython3",
   "version": "3.11.5"
  }
 },
 "nbformat": 4,
 "nbformat_minor": 5
}
