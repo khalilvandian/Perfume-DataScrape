{
 "cells": [
  {
   "cell_type": "code",
   "execution_count": 111,
   "id": "d97f928d",
   "metadata": {},
   "outputs": [],
   "source": [
    "from pymongo import MongoClient\n",
    "from pymongo import errors\n",
    "from pprint import pprint"
   ]
  },
  {
   "cell_type": "code",
   "execution_count": 112,
   "id": "276e0c20",
   "metadata": {},
   "outputs": [],
   "source": [
    "def write_to_crawledPerfumes(data):\n",
    "    client = MongoClient('localhost', 27017)\n",
    "    Perfume_Database = client.Perfume_Database\n",
    "    crawled_perfumes = Perfume_Database[\"Crawled_Perfumes\"]\n",
    "    crawled_perfumes.insert_many(data)"
   ]
  },
  {
   "cell_type": "code",
   "execution_count": 113,
   "id": "fd8e026b",
   "metadata": {
    "scrolled": false
   },
   "outputs": [],
   "source": [
    "from splinter import Browser\n",
    "from bs4 import BeautifulSoup as bs\n",
    "import time\n",
    "from webdriver_manager.chrome import ChromeDriverManager\n",
    "import requests\n",
    "import pandas as pd\n",
    "import re\n",
    "import selenium\n",
    "from pandas import DataFrame\n",
    "import json\n",
    "from selenium.webdriver.chrome.options import Options"
   ]
  },
  {
   "cell_type": "markdown",
   "id": "90c2ce88",
   "metadata": {},
   "source": [
    "Create a new profile path, and manually disable site data saving so fragrantica won't ask for cloudflare tests and also cookies."
   ]
  },
  {
   "cell_type": "code",
   "execution_count": 114,
   "id": "76024190",
   "metadata": {
    "scrolled": false
   },
   "outputs": [],
   "source": [
    "def init_browser(): # MUST add settings to prevent chrome from saving site data\n",
    "    chrome_options = Options()\n",
    "    chrome_options.add_argument(\"user-data-dir=B:\\Projects\\Perfume-DataScrape\\Chrome\");\n",
    "    \n",
    "    return Browser(\"chrome\", options=chrome_options, headless=False)"
   ]
  },
  {
   "cell_type": "code",
   "execution_count": 115,
   "id": "ee635525",
   "metadata": {},
   "outputs": [],
   "source": [
    "def filter_by_year(browser, year1, year2):\n",
    "    browser.find_by_css('input[type=\"number\"]')[1].fill(year2)\n",
    "    browser.find_by_css('input[type=\"number\"]')[0].fill(year1)\n",
    "    \n",
    "    time.sleep(0.5)"
   ]
  },
  {
   "cell_type": "code",
   "execution_count": 120,
   "id": "ad92a9e8",
   "metadata": {},
   "outputs": [],
   "source": [
    "def filter_by_year_url(browser, year1, year2):\n",
    "    url = f\"https://www.fragrantica.com/search/?godina={year1}%3A{year2}\"\n",
    "    browser.visit(url)\n",
    "    time.sleep(0.5)"
   ]
  },
  {
   "cell_type": "code",
   "execution_count": 121,
   "id": "d8d1c67a",
   "metadata": {},
   "outputs": [],
   "source": [
    "def crawl_year(browser, year):\n",
    "    soup = bs(browser.html, \"html.parser\")\n",
    "    \n",
    "    filter_by_year_url(browser, year, year)\n",
    "    \n",
    "#     MORE RESULTS\n",
    "    for j in range(0,50):\n",
    "        try:\n",
    "    #         Wait for the more results button to load ( for 2 second at most)\n",
    "            if browser.is_element_present_by_css('button[class=\"button\"]', wait_time=2):\n",
    "                loadMore_button = browser.find_by_css('button[class=\"button\"]');\n",
    "                if not loadMore_button._element.get_attribute('disabled'):\n",
    "                    loadMore_button.click()\n",
    "                    time.sleep(0.2)\n",
    "                    browser.execute_script(\"window.scrollTo(0, document.body.scrollHeight);\")\n",
    "                else:\n",
    "                    break  \n",
    "            else:\n",
    "                break\n",
    "        except:\n",
    "            break\n",
    "        \n",
    "#      Scrape PERFUME NAME AND LINKS\n",
    "    soup = bs(browser.html, \"html.parser\")\n",
    "    scraped_perfumes = []\n",
    "    \n",
    "        ####### GET THE LENGTH OF THE RESULTS #######\n",
    "    block1 = soup.find(\"span\", class_=\"grid-x grid-margin-x grid-margin-y small-up-3 medium-up-2 large-up-4 perfumes-row text-center\")\n",
    "\n",
    "    for idx, perfume in enumerate(block1.find_all(\"a\", href=True)):\n",
    "        new_perfume = {}\n",
    "        new_perfume['_id']  = year*10000 + idx\n",
    "        new_perfume['name'] = perfume.get_text().replace('\\n', '').strip(\" \")\n",
    "        new_perfume['link'] = perfume['href']\n",
    "        scraped_perfumes.append(new_perfume)\n",
    "        \n",
    "    print(len(scraped_perfumes))\n",
    "    \n",
    "    return scraped_perfumes"
   ]
  },
  {
   "cell_type": "code",
   "execution_count": 117,
   "id": "add33161",
   "metadata": {},
   "outputs": [
    {
     "name": "stderr",
     "output_type": "stream",
     "text": [
      "Exception ignored in: <function Service.__del__ at 0x0000025DAA80D300>\n",
      "Traceback (most recent call last):\n",
      "  File \"B:\\Software\\Anaconda\\Lib\\site-packages\\selenium\\webdriver\\common\\service.py\", line 185, in __del__\n",
      "    self.stop()\n",
      "  File \"B:\\Software\\Anaconda\\Lib\\site-packages\\selenium\\webdriver\\common\\service.py\", line 146, in stop\n",
      "    self.send_remote_shutdown_command()\n",
      "  File \"B:\\Software\\Anaconda\\Lib\\site-packages\\selenium\\webdriver\\common\\service.py\", line 126, in send_remote_shutdown_command\n",
      "    request.urlopen(f\"{self.service_url}/shutdown\")\n",
      "  File \"B:\\Software\\Anaconda\\Lib\\urllib\\request.py\", line 216, in urlopen\n",
      "    return opener.open(url, data, timeout)\n",
      "           ^^^^^^^^^^^^^^^^^^^^^^^^^^^^^^^\n",
      "  File \"B:\\Software\\Anaconda\\Lib\\urllib\\request.py\", line 519, in open\n",
      "    response = self._open(req, data)\n",
      "               ^^^^^^^^^^^^^^^^^^^^^\n",
      "  File \"B:\\Software\\Anaconda\\Lib\\urllib\\request.py\", line 536, in _open\n",
      "    result = self._call_chain(self.handle_open, protocol, protocol +\n",
      "             ^^^^^^^^^^^^^^^^^^^^^^^^^^^^^^^^^^^^^^^^^^^^^^^^^^^^^^^\n",
      "  File \"B:\\Software\\Anaconda\\Lib\\urllib\\request.py\", line 496, in _call_chain\n",
      "    result = func(*args)\n",
      "             ^^^^^^^^^^^\n",
      "  File \"B:\\Software\\Anaconda\\Lib\\urllib\\request.py\", line 1377, in http_open\n",
      "    return self.do_open(http.client.HTTPConnection, req)\n",
      "           ^^^^^^^^^^^^^^^^^^^^^^^^^^^^^^^^^^^^^^^^^^^^^\n",
      "  File \"B:\\Software\\Anaconda\\Lib\\urllib\\request.py\", line 1348, in do_open\n",
      "    h.request(req.get_method(), req.selector, req.data, headers,\n",
      "  File \"B:\\Software\\Anaconda\\Lib\\http\\client.py\", line 1286, in request\n",
      "    self._send_request(method, url, body, headers, encode_chunked)\n",
      "  File \"B:\\Software\\Anaconda\\Lib\\http\\client.py\", line 1332, in _send_request\n",
      "    self.endheaders(body, encode_chunked=encode_chunked)\n",
      "  File \"B:\\Software\\Anaconda\\Lib\\http\\client.py\", line 1281, in endheaders\n",
      "    self._send_output(message_body, encode_chunked=encode_chunked)\n",
      "  File \"B:\\Software\\Anaconda\\Lib\\http\\client.py\", line 1041, in _send_output\n",
      "    self.send(msg)\n",
      "  File \"B:\\Software\\Anaconda\\Lib\\http\\client.py\", line 979, in send\n",
      "    self.connect()\n",
      "  File \"B:\\Software\\Anaconda\\Lib\\http\\client.py\", line 945, in connect\n",
      "    self.sock = self._create_connection(\n",
      "                ^^^^^^^^^^^^^^^^^^^^^^^^\n",
      "  File \"B:\\Software\\Anaconda\\Lib\\socket.py\", line 843, in create_connection\n",
      "    exceptions.clear()  # raise only the last error\n",
      "    ^^^^^^^^^^^^^^^^^^\n",
      "KeyboardInterrupt: \n"
     ]
    }
   ],
   "source": [
    "browser = init_browser()"
   ]
  },
  {
   "cell_type": "code",
   "execution_count": 118,
   "id": "726fad1e",
   "metadata": {
    "scrolled": false
   },
   "outputs": [],
   "source": [
    "url = \"https://www.fragrantica.com/search/\"\n",
    "# url = \"https://www.fragrantica.com/perfume/Jean-Paul-Gaultier/Le-Male-Elixir-81642.html\"\n",
    "browser.visit(url)"
   ]
  },
  {
   "cell_type": "code",
   "execution_count": 124,
   "id": "0f7c8d29",
   "metadata": {},
   "outputs": [
    {
     "name": "stdout",
     "output_type": "stream",
     "text": [
      "910\n",
      "2023\n",
      "99\n",
      "2024\n"
     ]
    }
   ],
   "source": [
    "for year in range(2023,2025):\n",
    "    data = crawl_year(browser, year)\n",
    "    \n",
    "    try:\n",
    "        if len(data)>0:\n",
    "            write_to_crawledPerfumes(data)\n",
    "    \n",
    "    except errors.BulkWriteError as e:\n",
    "        error = e\n",
    "        print(e.details['writeErrors'])\n",
    "        continue\n",
    "        \n",
    "    print(year)"
   ]
  },
  {
   "cell_type": "code",
   "execution_count": null,
   "id": "d6d9a307",
   "metadata": {},
   "outputs": [],
   "source": []
  }
 ],
 "metadata": {
  "kernelspec": {
   "display_name": "Python 3 (ipykernel)",
   "language": "python",
   "name": "python3"
  },
  "language_info": {
   "codemirror_mode": {
    "name": "ipython",
    "version": 3
   },
   "file_extension": ".py",
   "mimetype": "text/x-python",
   "name": "python",
   "nbconvert_exporter": "python",
   "pygments_lexer": "ipython3",
   "version": "3.11.5"
  }
 },
 "nbformat": 4,
 "nbformat_minor": 5
}
