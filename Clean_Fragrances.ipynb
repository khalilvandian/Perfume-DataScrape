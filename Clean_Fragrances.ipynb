{
 "cells": [
  {
   "cell_type": "code",
   "execution_count": 1,
   "id": "b7fb374d",
   "metadata": {},
   "outputs": [],
   "source": [
    "from pymongo import MongoClient\n",
    "from pymongo import errors\n",
    "from pprint import pprint\n",
    "import numpy as np\n",
    "import re"
   ]
  },
  {
   "cell_type": "code",
   "execution_count": 2,
   "id": "25d05a22",
   "metadata": {},
   "outputs": [],
   "source": [
    "def connect_database():\n",
    "    client = MongoClient('localhost', 27017)\n",
    "    return client"
   ]
  },
  {
   "cell_type": "code",
   "execution_count": 3,
   "id": "d967e7af",
   "metadata": {},
   "outputs": [],
   "source": [
    "client = connect_database()"
   ]
  },
  {
   "cell_type": "code",
   "execution_count": 4,
   "id": "6b4f2a09",
   "metadata": {},
   "outputs": [
    {
     "data": {
      "text/plain": [
       "['Kitchen_test',\n",
       " 'Perfume_Database',\n",
       " 'WorldDevelopmentIndicators',\n",
       " 'admin',\n",
       " 'config',\n",
       " 'local']"
      ]
     },
     "execution_count": 4,
     "metadata": {},
     "output_type": "execute_result"
    }
   ],
   "source": [
    "client.list_database_names()"
   ]
  },
  {
   "cell_type": "code",
   "execution_count": 5,
   "id": "40f895a9",
   "metadata": {},
   "outputs": [],
   "source": [
    "perfume_database = client.Perfume_Database"
   ]
  },
  {
   "cell_type": "code",
   "execution_count": 6,
   "id": "ad1065fb",
   "metadata": {},
   "outputs": [
    {
     "data": {
      "text/plain": [
       "['Cleared_Crawled_Perfumes',\n",
       " 'Scraped_Perfumes',\n",
       " 'Extra01',\n",
       " 'Fragrances_Backup_02/16/2024',\n",
       " 'Extra03',\n",
       " 'Metadata',\n",
       " 'Perfumes',\n",
       " 'Extra02',\n",
       " 'Fragrances',\n",
       " 'Fragrances_Quality',\n",
       " 'Crawled_Perfumes']"
      ]
     },
     "execution_count": 6,
     "metadata": {},
     "output_type": "execute_result"
    }
   ],
   "source": [
    "perfume_database.list_collection_names()"
   ]
  },
  {
   "cell_type": "code",
   "execution_count": 7,
   "id": "09428e9e",
   "metadata": {},
   "outputs": [],
   "source": [
    "fragrances_collection = perfume_database.Fragrances"
   ]
  },
  {
   "cell_type": "markdown",
   "id": "eb2cb8f0",
   "metadata": {},
   "source": [
    "## Clearing Fragrances Dataset"
   ]
  },
  {
   "cell_type": "markdown",
   "id": "7a87af77",
   "metadata": {},
   "source": [
    "trim and lowercase company names"
   ]
  },
  {
   "cell_type": "code",
   "execution_count": 35,
   "id": "40f14919",
   "metadata": {},
   "outputs": [],
   "source": [
    "pipeline = []"
   ]
  },
  {
   "cell_type": "code",
   "execution_count": 36,
   "id": "34fcfb47",
   "metadata": {},
   "outputs": [],
   "source": [
    "clean_name = {\n",
    "    '$set': {\n",
    "        'name': {\n",
    "            '$toLower': {\n",
    "                '$trim': {\n",
    "                    'input': {\n",
    "                        '$toString': '$name'\n",
    "                    }\n",
    "                }\n",
    "            }\n",
    "        }\n",
    "    }\n",
    "}"
   ]
  },
  {
   "cell_type": "code",
   "execution_count": 37,
   "id": "4bfe2bd0",
   "metadata": {},
   "outputs": [],
   "source": [
    "clean_company = {\n",
    "    '$set': {\n",
    "        'company': {\n",
    "            '$toLower': {\n",
    "                '$trim': {\n",
    "                    'input': {\n",
    "                        '$toString': '$company'\n",
    "                    }\n",
    "                }\n",
    "            }\n",
    "        }\n",
    "    }\n",
    "}"
   ]
  },
  {
   "cell_type": "code",
   "execution_count": 38,
   "id": "920cf108",
   "metadata": {},
   "outputs": [],
   "source": [
    "merge = {\n",
    "    \"$merge\": \"Fragrances\"\n",
    "}"
   ]
  },
  {
   "cell_type": "code",
   "execution_count": 39,
   "id": "71fd4b66",
   "metadata": {},
   "outputs": [],
   "source": [
    "pipeline.extend([clean_name, clean_company, merge])"
   ]
  },
  {
   "cell_type": "code",
   "execution_count": 40,
   "id": "3a3f2bb7",
   "metadata": {},
   "outputs": [
    {
     "data": {
      "text/plain": [
       "[{'$set': {'name': {'$toLower': {'$trim': {'input': {'$toString': '$name'}}}}}},\n",
       " {'$set': {'company': {'$toLower': {'$trim': {'input': {'$toString': '$company'}}}}}},\n",
       " {'$merge': 'Fragrances'}]"
      ]
     },
     "execution_count": 40,
     "metadata": {},
     "output_type": "execute_result"
    }
   ],
   "source": [
    "pipeline"
   ]
  },
  {
   "cell_type": "code",
   "execution_count": 41,
   "id": "0f5ed34d",
   "metadata": {},
   "outputs": [
    {
     "data": {
      "text/plain": [
       "4563"
      ]
     },
     "execution_count": 41,
     "metadata": {},
     "output_type": "execute_result"
    }
   ],
   "source": [
    "fragrances_collection.count_documents({})"
   ]
  },
  {
   "cell_type": "code",
   "execution_count": 42,
   "id": "271e59dc",
   "metadata": {},
   "outputs": [
    {
     "data": {
      "text/plain": [
       "<pymongo.command_cursor.CommandCursor at 0x273ff8901d0>"
      ]
     },
     "execution_count": 42,
     "metadata": {},
     "output_type": "execute_result"
    }
   ],
   "source": [
    "fragrances_collection.aggregate(pipeline)"
   ]
  },
  {
   "cell_type": "code",
   "execution_count": 43,
   "id": "c9a184d1",
   "metadata": {},
   "outputs": [
    {
     "data": {
      "text/plain": [
       "4563"
      ]
     },
     "execution_count": 43,
     "metadata": {},
     "output_type": "execute_result"
    }
   ],
   "source": [
    "fragrances_collection.count_documents({})"
   ]
  },
  {
   "cell_type": "markdown",
   "id": "8d45a98f",
   "metadata": {},
   "source": [
    "## Detect Duplicates"
   ]
  },
  {
   "cell_type": "code",
   "execution_count": 8,
   "id": "c98d60eb",
   "metadata": {},
   "outputs": [],
   "source": [
    "duplicate_detection_pipeline = []"
   ]
  },
  {
   "cell_type": "code",
   "execution_count": 9,
   "id": "9db31c26",
   "metadata": {},
   "outputs": [],
   "source": [
    "group_by_name_company = {\n",
    "    '$group': {\n",
    "        '_id': {\n",
    "            'name': '$name', \n",
    "            'company': '$company'\n",
    "        }, \n",
    "        'ids': {\n",
    "            '$push': '$_id'\n",
    "        },\n",
    "        'count': {\n",
    "            '$count': {}\n",
    "        }\n",
    "    }\n",
    "}"
   ]
  },
  {
   "cell_type": "code",
   "execution_count": 10,
   "id": "7a078c63",
   "metadata": {},
   "outputs": [],
   "source": [
    "find_duplicates = {\n",
    "    '$match': {\n",
    "        'count': {\n",
    "            '$gt': 1\n",
    "        }\n",
    "    }\n",
    "}"
   ]
  },
  {
   "cell_type": "code",
   "execution_count": 11,
   "id": "1c9fefc7",
   "metadata": {},
   "outputs": [],
   "source": [
    "duplicate_detection_pipeline.extend([group_by_name_company, find_duplicates])"
   ]
  },
  {
   "cell_type": "code",
   "execution_count": 27,
   "id": "35e1109c",
   "metadata": {},
   "outputs": [],
   "source": [
    "result = fragrances_collection.aggregate(duplicate_detection_pipeline)"
   ]
  },
  {
   "cell_type": "code",
   "execution_count": 28,
   "id": "6c12e84a",
   "metadata": {},
   "outputs": [],
   "source": [
    "to_delete_ids = []"
   ]
  },
  {
   "cell_type": "code",
   "execution_count": 29,
   "id": "a17edcce",
   "metadata": {},
   "outputs": [],
   "source": [
    "for doc in result:\n",
    "    to_delete_ids.extend(doc['ids'][1:])"
   ]
  },
  {
   "cell_type": "code",
   "execution_count": 30,
   "id": "15ccfbcb",
   "metadata": {},
   "outputs": [
    {
     "data": {
      "text/plain": [
       "[ObjectId('65c3d3942be6a0a6d64f648e'),\n",
       " ObjectId('65a6842180d8b716415b35cf'),\n",
       " ObjectId('65a6842780d8b716415b35d2'),\n",
       " ObjectId('65a6842d80d8b716415b35d5'),\n",
       " ObjectId('65c3d3942be6a0a6d64f61d2'),\n",
       " ObjectId('65c3d3942be6a0a6d64f6338'),\n",
       " ObjectId('65c3d3942be6a0a6d64f618a'),\n",
       " ObjectId('65a75c9a96d56388983d0998')]"
      ]
     },
     "execution_count": 30,
     "metadata": {},
     "output_type": "execute_result"
    }
   ],
   "source": [
    "to_delete_ids"
   ]
  },
  {
   "cell_type": "code",
   "execution_count": 31,
   "id": "f5e9fbad",
   "metadata": {},
   "outputs": [],
   "source": [
    "delete_query = {\n",
    "    '_id': {\n",
    "        '$in': to_delete_ids\n",
    "    }\n",
    "}"
   ]
  },
  {
   "cell_type": "code",
   "execution_count": 32,
   "id": "d618098c",
   "metadata": {},
   "outputs": [],
   "source": [
    "test_res = fragrances_collection.find(delete_query)"
   ]
  },
  {
   "cell_type": "code",
   "execution_count": 33,
   "id": "5c3eea62",
   "metadata": {},
   "outputs": [
    {
     "name": "stdout",
     "output_type": "stream",
     "text": [
      "{'_id': ObjectId('65a6842180d8b716415b35cf'),\n",
      " 'base notes': ['Oakmoss', 'Patchouli', 'Amber'],\n",
      " 'company': 'frapin',\n",
      " 'description': 'The Orchid Man by Frapin is a Aromatic fragrance for women '\n",
      "                'and men. The Orchid Man was launched in 2015. The nose behind '\n",
      "                'this fragrance is Jérôme Epinette. Top notes are Bergamot and '\n",
      "                'Black Pepper; middle notes are Leather and Jasmine; base '\n",
      "                'notes are Oakmoss, Patchouli and Amber. The Orchid Man was a '\n",
      "                'nickname of the French boxer Georges Carpentier, who was a '\n",
      "                'multi-talented person. After the boxing ring, he took to the '\n",
      "                'stage. Carpentier the showman went from Paris to Hollywood. '\n",
      "                'He experienced the heights of Wall Street and then its '\n",
      "                'collapse. A modern man who was always ready for new '\n",
      "                'adventures, the Orchid Man opened one of the first cocktail '\n",
      "                'bars in Paris, to great success. Boxing, like perfume, is '\n",
      "                'about facing yourself. An encounter of rituals and studied '\n",
      "                'gestures. It is also a moment of violence that must be '\n",
      "                'elegant..',\n",
      " 'gender': 'for women and men',\n",
      " 'gender_vote': {'average': 1.1, 'votes_count': 185},\n",
      " 'image': 'https://fimgs.net/mdimg/perfume/375x500.32088.jpg',\n",
      " 'longevity': {'eternal': 20,\n",
      "               'long lasting': 48,\n",
      "               'moderate': 128,\n",
      "               'very weak': 26,\n",
      "               'weak': 52},\n",
      " 'main accords': {'animalic': 58.1316,\n",
      "                  'citrus': 95.2632,\n",
      "                  'earthy': 85.7895,\n",
      "                  'fresh spicy': 100.0,\n",
      "                  'leather': 77.3684,\n",
      "                  'mossy': 91.0526,\n",
      "                  'patchouli': 62.6316,\n",
      "                  'warm spicy': 61.2631,\n",
      "                  'white floral': 55.7895,\n",
      "                  'woody': 74.4211},\n",
      " 'middle notes': ['Leather', 'Jasmine'],\n",
      " 'name': 'the orchid man',\n",
      " 'number_votes': 475,\n",
      " 'price value': {'good value': 18,\n",
      "                 'great value': 4,\n",
      "                 'ok': 79,\n",
      "                 'overpriced': 28,\n",
      "                 'way overpriced': 13},\n",
      " 'rating': 4.09,\n",
      " 'sillage': {'enormous': 40, 'intimate': 88, 'moderate': 157, 'strong': 43},\n",
      " 'top notes': ['Bergamot', 'Black Pepper'],\n",
      " 'url': 'https://www.fragrantica.com/perfume/Hugo-Boss/Boss-Alive-Eau-de-Toilette-66050.html'}\n",
      "{'_id': ObjectId('65a6842780d8b716415b35d2'),\n",
      " 'base notes': ['Oakmoss', 'Patchouli', 'Amber'],\n",
      " 'company': 'frapin',\n",
      " 'description': 'The Orchid Man by Frapin is a Aromatic fragrance for women '\n",
      "                'and men. The Orchid Man was launched in 2015. The nose behind '\n",
      "                'this fragrance is Jérôme Epinette. Top notes are Bergamot and '\n",
      "                'Black Pepper; middle notes are Leather and Jasmine; base '\n",
      "                'notes are Oakmoss, Patchouli and Amber. The Orchid Man was a '\n",
      "                'nickname of the French boxer Georges Carpentier, who was a '\n",
      "                'multi-talented person. After the boxing ring, he took to the '\n",
      "                'stage. Carpentier the showman went from Paris to Hollywood. '\n",
      "                'He experienced the heights of Wall Street and then its '\n",
      "                'collapse. A modern man who was always ready for new '\n",
      "                'adventures, the Orchid Man opened one of the first cocktail '\n",
      "                'bars in Paris, to great success. Boxing, like perfume, is '\n",
      "                'about facing yourself. An encounter of rituals and studied '\n",
      "                'gestures. It is also a moment of violence that must be '\n",
      "                'elegant..',\n",
      " 'gender': 'for women and men',\n",
      " 'gender_vote': {'average': 1.1, 'votes_count': 185},\n",
      " 'image': 'https://fimgs.net/mdimg/perfume/375x500.32088.jpg',\n",
      " 'longevity': {'eternal': 20,\n",
      "               'long lasting': 48,\n",
      "               'moderate': 128,\n",
      "               'very weak': 26,\n",
      "               'weak': 52},\n",
      " 'main accords': {'animalic': 58.1316,\n",
      "                  'citrus': 95.2632,\n",
      "                  'earthy': 85.7895,\n",
      "                  'fresh spicy': 100.0,\n",
      "                  'leather': 77.3684,\n",
      "                  'mossy': 91.0526,\n",
      "                  'patchouli': 62.6316,\n",
      "                  'warm spicy': 61.2631,\n",
      "                  'white floral': 55.7895,\n",
      "                  'woody': 74.4211},\n",
      " 'middle notes': ['Leather', 'Jasmine'],\n",
      " 'name': 'the orchid man',\n",
      " 'number_votes': 475,\n",
      " 'price value': {'good value': 18,\n",
      "                 'great value': 4,\n",
      "                 'ok': 79,\n",
      "                 'overpriced': 28,\n",
      "                 'way overpriced': 13},\n",
      " 'rating': 4.09,\n",
      " 'sillage': {'enormous': 40, 'intimate': 88, 'moderate': 157, 'strong': 43},\n",
      " 'top notes': ['Bergamot', 'Black Pepper'],\n",
      " 'url': 'https://www.fragrantica.com/perfume/Thameen/Noorolain-Taif-20507.html'}\n",
      "{'_id': ObjectId('65a6842d80d8b716415b35d5'),\n",
      " 'base notes': ['Oakmoss', 'Patchouli', 'Amber'],\n",
      " 'company': 'frapin',\n",
      " 'description': 'The Orchid Man by Frapin is a Aromatic fragrance for women '\n",
      "                'and men. The Orchid Man was launched in 2015. The nose behind '\n",
      "                'this fragrance is Jérôme Epinette. Top notes are Bergamot and '\n",
      "                'Black Pepper; middle notes are Leather and Jasmine; base '\n",
      "                'notes are Oakmoss, Patchouli and Amber. The Orchid Man was a '\n",
      "                'nickname of the French boxer Georges Carpentier, who was a '\n",
      "                'multi-talented person. After the boxing ring, he took to the '\n",
      "                'stage. Carpentier the showman went from Paris to Hollywood. '\n",
      "                'He experienced the heights of Wall Street and then its '\n",
      "                'collapse. A modern man who was always ready for new '\n",
      "                'adventures, the Orchid Man opened one of the first cocktail '\n",
      "                'bars in Paris, to great success. Boxing, like perfume, is '\n",
      "                'about facing yourself. An encounter of rituals and studied '\n",
      "                'gestures. It is also a moment of violence that must be '\n",
      "                'elegant..',\n",
      " 'gender': 'for women and men',\n",
      " 'gender_vote': {'average': 1.1, 'votes_count': 185},\n",
      " 'image': 'https://fimgs.net/mdimg/perfume/375x500.32088.jpg',\n",
      " 'longevity': {'eternal': 20,\n",
      "               'long lasting': 48,\n",
      "               'moderate': 128,\n",
      "               'very weak': 26,\n",
      "               'weak': 52},\n",
      " 'main accords': {'animalic': 58.1316,\n",
      "                  'citrus': 95.2632,\n",
      "                  'earthy': 85.7895,\n",
      "                  'fresh spicy': 100.0,\n",
      "                  'leather': 77.3684,\n",
      "                  'mossy': 91.0526,\n",
      "                  'patchouli': 62.6316,\n",
      "                  'warm spicy': 61.2631,\n",
      "                  'white floral': 55.7895,\n",
      "                  'woody': 74.4211},\n",
      " 'middle notes': ['Leather', 'Jasmine'],\n",
      " 'name': 'the orchid man',\n",
      " 'number_votes': 475,\n",
      " 'price value': {'good value': 18,\n",
      "                 'great value': 4,\n",
      "                 'ok': 79,\n",
      "                 'overpriced': 28,\n",
      "                 'way overpriced': 13},\n",
      " 'rating': 4.09,\n",
      " 'sillage': {'enormous': 40, 'intimate': 88, 'moderate': 157, 'strong': 43},\n",
      " 'top notes': ['Bergamot', 'Black Pepper'],\n",
      " 'url': 'https://www.fragrantica.com/perfume/Atelier-des-Ors/Riviera-Sunrise-74610.html'}\n",
      "{'_id': ObjectId('65a75c9a96d56388983d0998'),\n",
      " 'base notes': ['Sandalwood', 'Patchouli'],\n",
      " 'company': 'davidoff',\n",
      " 'description': 'Cool Water Wave by Davidoff is a Woody Aquatic fragrance for '\n",
      "                'men. Cool Water Wave was launched in 2017. Cool Water Wave '\n",
      "                'was created by Francis Kurkdjian, Antoine Lie and Jean '\n",
      "                'Jacques. Top notes are Sea Notes, Grapefruit and Sichuan '\n",
      "                'Pepper; middle notes are Juniper and Birch Leaf; base notes '\n",
      "                'are Sandalwood and Patchouli. .',\n",
      " 'gender': 'for men',\n",
      " 'gender_vote': {'average': 1.2, 'votes_count': 279},\n",
      " 'image': 'https://fimgs.net/mdimg/perfume/375x500.44618.jpg',\n",
      " 'longevity': {'eternal': 22,\n",
      "               'long lasting': 42,\n",
      "               'moderate': 224,\n",
      "               'very weak': 42,\n",
      "               'weak': 90},\n",
      " 'main accords': {'aquatic': 45.9887,\n",
      "                  'aromatic': 100.0,\n",
      "                  'citrus': 79.3479,\n",
      "                  'fresh spicy': 82.8763,\n",
      "                  'leather': 48.2587,\n",
      "                  'marine': 83.2957,\n",
      "                  'salty': 51.3183,\n",
      "                  'smoky': 44.607,\n",
      "                  'woody': 76.9792},\n",
      " 'middle notes': ['Juniper', 'Birch Leaf'],\n",
      " 'name': 'cool water wave',\n",
      " 'number_votes': 634,\n",
      " 'price value': {'good value': 119,\n",
      "                 'great value': 95,\n",
      "                 'ok': 40,\n",
      "                 'overpriced': 9,\n",
      "                 'way overpriced': 5},\n",
      " 'rating': 3.94,\n",
      " 'sillage': {'enormous': 62, 'intimate': 108, 'moderate': 280, 'strong': 43},\n",
      " 'top notes': ['Sea Notes', 'Grapefruit', 'Sichuan Pepper'],\n",
      " 'url': 'https://www.fragrantica.com/perfume/Davidoff/Cool-Water-Wave-44618.html'}\n",
      "{'_id': ObjectId('65c3d3942be6a0a6d64f618a'),\n",
      " 'company': 'the nue co.',\n",
      " 'description': ' Cognitive function and the olfactory system are closely '\n",
      "                'linked and smells can trigger both emotional and '\n",
      "                'physiological responses. Put simply: scent is one of the '\n",
      "                'fastest ways to alter your emotional state. Functional '\n",
      "                'Fragrance is, well, a fragrance with a function, designed to '\n",
      "                'help you reset at times of high stress.\\r'\n",
      "                ' Developed using data insight and research into the '\n",
      "                'connection between cognitive function and the olfactory '\n",
      "                'system, Functional Fragrance is an anti-stress supplement '\n",
      "                'delivered in the form of a unisex fragrance. This clean, '\n",
      "                'woody, spicy and smoky scent is the product of tireless '\n",
      "                'research- in clinical trials, 96% of users felt instantly '\n",
      "                'calmer when applying Functional Fragrance, and 89% still felt '\n",
      "                'calmer, more composed and less stressed after thirty minutes. '\n",
      "                'Discover the miraculous power of this meticulously '\n",
      "                'constructed fragrance for yourself.',\n",
      " 'image': 'https://static.luckyscent.com/images/products/81900.jpg?width=400&404=product.png',\n",
      " 'name': 'functional fragrance',\n",
      " 'notes': ' Green cardamom, iris, cilantro, palo santo'}\n",
      "{'_id': ObjectId('65c3d3942be6a0a6d64f61d2'),\n",
      " 'company': 'montale',\n",
      " 'description': ' Born from the ancient traditions of nomadic tribes of the '\n",
      "                'Middle East, a Bakhoor is a unique take on fragrant smoke- a '\n",
      "                'wood chip soaked in a special recipe- different for each '\n",
      "                'person- of scented oils and resins and slowly burned in a '\n",
      "                'vessel known as a Mabkhara. The resulting scent- no two '\n",
      "                'identical, but always rich, smoky, sweet, woodsy- is thought '\n",
      "                'to purify, relax, and even treat traditional maladies. As a '\n",
      "                'perfume, Bakhoor draws on the long history of this tradition, '\n",
      "                'delivering a raw, exotic scent that feels equally '\n",
      "                'contemplative and seductive, rich in resin, sandalwood, oud, '\n",
      "                'and leather. For those who love smoky, sophisticated, sensual '\n",
      "                \"scents with a touch of the out-of-ordinary- don't miss \"\n",
      "                'Bakhoor.',\n",
      " 'image': 'https://static.luckyscent.com/images/products/354006.jpg?width=400&404=product.png',\n",
      " 'name': 'bakhoor',\n",
      " 'notes': ' Oud, saffron, tanned leather, cedarwood, vetiver, sandalwood, grey '\n",
      "          'amber, white musk, gaiac'}\n",
      "{'_id': ObjectId('65c3d3942be6a0a6d64f6338'),\n",
      " 'company': 'comptoir sud pacifique',\n",
      " 'description': ' A heavenly exercise by Comptoir Sud Pacifique, exploring the '\n",
      "                'possibilities for a fragrance both fresh and velvety-soft. '\n",
      "                'Vanille Blackberry sings brightly from the start, opening '\n",
      "                'playfully tart with a burst of fizzing lemon and bergamot. '\n",
      "                'Then, the lovely cloud of floral fruit takes over, with rose '\n",
      "                'and jasmine in attendance, but never too heady, just light '\n",
      "                'and pretty. But in the billowing cloud, the stars of the show '\n",
      "                'are blackberry and vanilla, forming a sweet, velvety-soft '\n",
      "                'melange. The blackberry creates a perfect, lightly piquant '\n",
      "                'contrast to the swoon-worthy classic Comptoir Sud Pacifique '\n",
      "                'vanilla. Like a tea-time delicacy, this soft, floral-fruity '\n",
      "                'vanilla just gets smoother in the drydown, light and '\n",
      "                'delicate, enveloped in white musk and cashmere woods. '\n",
      "                'Luscious, fluffy, yet glowing - a must for any vanilla lover.',\n",
      " 'image': 'https://static.luckyscent.com/images/products/23814.jpg?width=400&404=product.png',\n",
      " 'name': 'vanille blackberry',\n",
      " 'notes': ' Lemon, bergamot, rose, jasmine, blackberry, pink berries, musk, '\n",
      "          'vanilla, cashmere wood'}\n",
      "{'_id': ObjectId('65c3d3942be6a0a6d64f648e'),\n",
      " 'company': 'byredo',\n",
      " 'description': ' BYREDO presents a hair perfume collection that invites you '\n",
      "                'to care for and delicately scent the hair in one sensuous '\n",
      "                'beautifying gesture. Enjoy the uplifting power of long '\n",
      "                'lasting scents as they subtly diffuse throughout the day, '\n",
      "                'amplified by the natural movement of the hair. Each hair '\n",
      "                \"perfume combines one of BYREDO's signature scents with a \"\n",
      "                'unique silicone and polymer formula to create a light, '\n",
      "                'invisible veil designed to leave the hair nourished and '\n",
      "                'luminous whilst divinely scented.\\r'\n",
      "                'This entrancing shape-shifter is one of the most popular '\n",
      "                'fragrances in the Byredo line, and we can understand why. The '\n",
      "                'opening is crisp and outdoorsy \\x96 strong, vibrant citrus, '\n",
      "                'cool juniper and sharp pine needles. Floating incense and the '\n",
      "                'sweet earthiness of orris help to set the scene: camping '\n",
      "                'under an inky deep blue sky studded with brilliant stars, '\n",
      "                'surrounded by pine trees, with a hint of smoke cutting '\n",
      "                'through the chilly night air. As this wears on the skin, warm '\n",
      "                'elements begin to flicker beneath the cool and sharp ones '\n",
      "                'like the glowing embers of a campfire \\x96 golden amber, '\n",
      "                'creamy vanilla and luscious sandalwood. A warm, soft, dreamy '\n",
      "                'skin scent emerges, still with lovely cool traces of juniper, '\n",
      "                'lemon and incense wafting over the top.  This has all the '\n",
      "                'soft, amber coziness of a beloved cashmere sweater last worn '\n",
      "                'to a bonfire on the winter solstice, with traces of smoke and '\n",
      "                'pine and night air in its threads. It is the danger of a long '\n",
      "                'wild night remembered from a warm and safe place. Richly '\n",
      "                'evocative and absolutely gorgeous.',\n",
      " 'image': 'https://static.luckyscent.com/images/products/64168.jpg?width=400&404=product.png',\n",
      " 'name': 'gypsy water hair perfume',\n",
      " 'notes': ' Bergamot, lemon, pepper, juniper berries, incense, pine needles, '\n",
      "          'orris, amber, vanilla, sandalwood'}\n"
     ]
    }
   ],
   "source": [
    "for i in test_res:\n",
    "    pprint(i)"
   ]
  },
  {
   "cell_type": "code",
   "execution_count": 34,
   "id": "932208f1",
   "metadata": {},
   "outputs": [
    {
     "data": {
      "text/plain": [
       "DeleteResult({'n': 8, 'ok': 1.0}, acknowledged=True)"
      ]
     },
     "execution_count": 34,
     "metadata": {},
     "output_type": "execute_result"
    }
   ],
   "source": [
    "fragrances_collection.delete_many(delete_query)"
   ]
  },
  {
   "cell_type": "markdown",
   "id": "145c739c",
   "metadata": {},
   "source": [
    "deleting was applied. double check duplicates"
   ]
  },
  {
   "cell_type": "code",
   "execution_count": null,
   "id": "6268f8e8",
   "metadata": {},
   "outputs": [],
   "source": [
    "duplicate_detection_pipeline.append({'$count': 'count'})"
   ]
  },
  {
   "cell_type": "code",
   "execution_count": 45,
   "id": "d676d6cb",
   "metadata": {},
   "outputs": [
    {
     "name": "stdout",
     "output_type": "stream",
     "text": [
      "None\n"
     ]
    }
   ],
   "source": [
    "try:\n",
    "    fragrances_collection.aggregate(duplicate_detection_pipeline).next()\n",
    "except StopIteration:\n",
    "    print(\"None\")"
   ]
  },
  {
   "cell_type": "markdown",
   "id": "b8cb5f58",
   "metadata": {},
   "source": [
    "## Address Consistency Issues"
   ]
  },
  {
   "cell_type": "markdown",
   "id": "417f9a51",
   "metadata": {},
   "source": [
    "### Rating Field \n",
    " There are documents with values of \"NA\". since they are not available, the field is going to be removed. using update and unset operator."
   ]
  },
  {
   "cell_type": "code",
   "execution_count": 28,
   "id": "c3e729ab",
   "metadata": {},
   "outputs": [],
   "source": [
    "rating_toBeRemoved = {\"rating\": \"NA\"}"
   ]
  },
  {
   "cell_type": "code",
   "execution_count": 30,
   "id": "73a56467",
   "metadata": {},
   "outputs": [],
   "source": [
    "remove_rating_field = {'$unset': {\"rating\": {}}}"
   ]
  },
  {
   "cell_type": "code",
   "execution_count": 31,
   "id": "8fc99ab0",
   "metadata": {},
   "outputs": [
    {
     "data": {
      "text/plain": [
       "12"
      ]
     },
     "execution_count": 31,
     "metadata": {},
     "output_type": "execute_result"
    }
   ],
   "source": [
    "fragrances_collection.count_documents(rating_toBeRemoved)"
   ]
  },
  {
   "cell_type": "code",
   "execution_count": 32,
   "id": "13b35fb5",
   "metadata": {},
   "outputs": [],
   "source": [
    "result = fragrances_collection.update_many(rating_toBeRemoved, remove_rating_field)"
   ]
  },
  {
   "cell_type": "code",
   "execution_count": 33,
   "id": "a9fb12a7",
   "metadata": {},
   "outputs": [
    {
     "name": "stdout",
     "output_type": "stream",
     "text": [
      "UpdateResult({'n': 12, 'nModified': 12, 'ok': 1.0, 'updatedExisting': True}, acknowledged=True)\n"
     ]
    }
   ],
   "source": [
    "pprint(result)"
   ]
  },
  {
   "cell_type": "code",
   "execution_count": 34,
   "id": "29ee7812",
   "metadata": {},
   "outputs": [
    {
     "data": {
      "text/plain": [
       "0"
      ]
     },
     "execution_count": 34,
     "metadata": {},
     "output_type": "execute_result"
    }
   ],
   "source": [
    "fragrances_collection.count_documents(rating_toBeRemoved)"
   ]
  },
  {
   "cell_type": "markdown",
   "id": "11754b80",
   "metadata": {},
   "source": [
    "### Link and URL\n",
    "Since they are the same fields, the values of url are added to an array and renamed to "
   ]
  },
  {
   "cell_type": "code",
   "execution_count": null,
   "id": "6be7a1be",
   "metadata": {},
   "outputs": [],
   "source": []
  }
 ],
 "metadata": {
  "kernelspec": {
   "display_name": "Python 3 (ipykernel)",
   "language": "python",
   "name": "python3"
  },
  "language_info": {
   "codemirror_mode": {
    "name": "ipython",
    "version": 3
   },
   "file_extension": ".py",
   "mimetype": "text/x-python",
   "name": "python",
   "nbconvert_exporter": "python",
   "pygments_lexer": "ipython3",
   "version": "3.11.5"
  }
 },
 "nbformat": 4,
 "nbformat_minor": 5
}
