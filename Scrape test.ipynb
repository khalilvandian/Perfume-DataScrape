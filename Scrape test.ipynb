{
 "cells": [
  {
   "cell_type": "code",
   "execution_count": 4,
   "id": "82ccb3a7",
   "metadata": {},
   "outputs": [],
   "source": [
    "from splinter import Browser\n",
    "from bs4 import BeautifulSoup as bs\n",
    "import time\n",
    "from webdriver_manager.chrome import ChromeDriverManager\n",
    "import requests\n",
    "import pandas as pd\n",
    "import re\n",
    "import selenium\n",
    "from pandas import DataFrame\n",
    "import json\n",
    "from selenium.webdriver.chrome.options import Options\n",
    "import random"
   ]
  },
  {
   "cell_type": "code",
   "execution_count": 5,
   "id": "a6d1669d",
   "metadata": {},
   "outputs": [],
   "source": [
    "def init_browser(proxy=''): # MUST add settings to prevent chrome from saving site data\n",
    "    chrome_options = Options()\n",
    "    chrome_options.add_argument(\"user-data-dir=B:\\Projects\\Perfume-DataScrape\\Chrome\");\n",
    "    if proxy:\n",
    "        chrome_options.add_argument('--proxy-server=' + proxy)\n",
    "    \n",
    "    return Browser(\"chrome\", options=chrome_options, headless=False)"
   ]
  },
  {
   "cell_type": "code",
   "execution_count": 6,
   "id": "9fd9013b",
   "metadata": {},
   "outputs": [],
   "source": [
    "browser = init_browser()"
   ]
  },
  {
   "cell_type": "code",
   "execution_count": null,
   "id": "c400de3c",
   "metadata": {},
   "outputs": [],
   "source": [
    "links = "
   ]
  }
 ],
 "metadata": {
  "kernelspec": {
   "display_name": "Python 3 (ipykernel)",
   "language": "python",
   "name": "python3"
  },
  "language_info": {
   "codemirror_mode": {
    "name": "ipython",
    "version": 3
   },
   "file_extension": ".py",
   "mimetype": "text/x-python",
   "name": "python",
   "nbconvert_exporter": "python",
   "pygments_lexer": "ipython3",
   "version": "3.11.5"
  }
 },
 "nbformat": 4,
 "nbformat_minor": 5
}
